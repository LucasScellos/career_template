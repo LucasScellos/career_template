{
 "cells": [
  {
   "cell_type": "markdown",
   "metadata": {},
   "source": [
    "# Import, loading data and understand the problem 🚤"
   ]
  },
  {
   "cell_type": "code",
   "execution_count": 1,
   "metadata": {},
   "outputs": [
    {
     "data": {
      "text/plain": [
       "'2.9.1'"
      ]
     },
     "execution_count": 1,
     "metadata": {},
     "output_type": "execute_result"
    }
   ],
   "source": [
    "import numpy as np\n",
    "import pandas as pd\n",
    "\n",
    "import tensorflow as tf\n",
    "from tensorflow.keras import layers\n",
    "\n",
    "from sklearn.model_selection import train_test_split\n",
    "from sklearn.preprocessing import StandardScaler\n",
    "import matplotlib.pyplot as plt\n",
    "import shap\n",
    "\n",
    "tf.__version__"
   ]
  },
  {
   "cell_type": "code",
   "execution_count": 2,
   "metadata": {},
   "outputs": [
    {
     "data": {
      "text/html": [
       "<div>\n",
       "<style scoped>\n",
       "    .dataframe tbody tr th:only-of-type {\n",
       "        vertical-align: middle;\n",
       "    }\n",
       "\n",
       "    .dataframe tbody tr th {\n",
       "        vertical-align: top;\n",
       "    }\n",
       "\n",
       "    .dataframe thead th {\n",
       "        text-align: right;\n",
       "    }\n",
       "</style>\n",
       "<table border=\"1\" class=\"dataframe\">\n",
       "  <thead>\n",
       "    <tr style=\"text-align: right;\">\n",
       "      <th></th>\n",
       "      <th>age</th>\n",
       "      <th>sex</th>\n",
       "      <th>cp</th>\n",
       "      <th>trestbps</th>\n",
       "      <th>chol</th>\n",
       "      <th>fbs</th>\n",
       "      <th>restecg</th>\n",
       "      <th>thalach</th>\n",
       "      <th>exang</th>\n",
       "      <th>oldpeak</th>\n",
       "      <th>slope</th>\n",
       "      <th>ca</th>\n",
       "      <th>thal</th>\n",
       "      <th>target</th>\n",
       "    </tr>\n",
       "  </thead>\n",
       "  <tbody>\n",
       "    <tr>\n",
       "      <th>0</th>\n",
       "      <td>63</td>\n",
       "      <td>1</td>\n",
       "      <td>1</td>\n",
       "      <td>145</td>\n",
       "      <td>233</td>\n",
       "      <td>1</td>\n",
       "      <td>2</td>\n",
       "      <td>150</td>\n",
       "      <td>0</td>\n",
       "      <td>2.3</td>\n",
       "      <td>3</td>\n",
       "      <td>0</td>\n",
       "      <td>fixed</td>\n",
       "      <td>0</td>\n",
       "    </tr>\n",
       "    <tr>\n",
       "      <th>1</th>\n",
       "      <td>67</td>\n",
       "      <td>1</td>\n",
       "      <td>4</td>\n",
       "      <td>160</td>\n",
       "      <td>286</td>\n",
       "      <td>0</td>\n",
       "      <td>2</td>\n",
       "      <td>108</td>\n",
       "      <td>1</td>\n",
       "      <td>1.5</td>\n",
       "      <td>2</td>\n",
       "      <td>3</td>\n",
       "      <td>normal</td>\n",
       "      <td>1</td>\n",
       "    </tr>\n",
       "    <tr>\n",
       "      <th>2</th>\n",
       "      <td>67</td>\n",
       "      <td>1</td>\n",
       "      <td>4</td>\n",
       "      <td>120</td>\n",
       "      <td>229</td>\n",
       "      <td>0</td>\n",
       "      <td>2</td>\n",
       "      <td>129</td>\n",
       "      <td>1</td>\n",
       "      <td>2.6</td>\n",
       "      <td>2</td>\n",
       "      <td>2</td>\n",
       "      <td>reversible</td>\n",
       "      <td>0</td>\n",
       "    </tr>\n",
       "    <tr>\n",
       "      <th>3</th>\n",
       "      <td>37</td>\n",
       "      <td>1</td>\n",
       "      <td>3</td>\n",
       "      <td>130</td>\n",
       "      <td>250</td>\n",
       "      <td>0</td>\n",
       "      <td>0</td>\n",
       "      <td>187</td>\n",
       "      <td>0</td>\n",
       "      <td>3.5</td>\n",
       "      <td>3</td>\n",
       "      <td>0</td>\n",
       "      <td>normal</td>\n",
       "      <td>0</td>\n",
       "    </tr>\n",
       "    <tr>\n",
       "      <th>4</th>\n",
       "      <td>41</td>\n",
       "      <td>0</td>\n",
       "      <td>2</td>\n",
       "      <td>130</td>\n",
       "      <td>204</td>\n",
       "      <td>0</td>\n",
       "      <td>2</td>\n",
       "      <td>172</td>\n",
       "      <td>0</td>\n",
       "      <td>1.4</td>\n",
       "      <td>1</td>\n",
       "      <td>0</td>\n",
       "      <td>normal</td>\n",
       "      <td>0</td>\n",
       "    </tr>\n",
       "  </tbody>\n",
       "</table>\n",
       "</div>"
      ],
      "text/plain": [
       "   age  sex  cp  trestbps  chol  fbs  restecg  thalach  exang  oldpeak  slope  \\\n",
       "0   63    1   1       145   233    1        2      150      0      2.3      3   \n",
       "1   67    1   4       160   286    0        2      108      1      1.5      2   \n",
       "2   67    1   4       120   229    0        2      129      1      2.6      2   \n",
       "3   37    1   3       130   250    0        0      187      0      3.5      3   \n",
       "4   41    0   2       130   204    0        2      172      0      1.4      1   \n",
       "\n",
       "   ca        thal  target  \n",
       "0   0       fixed       0  \n",
       "1   3      normal       1  \n",
       "2   2  reversible       0  \n",
       "3   0      normal       0  \n",
       "4   0      normal       0  "
      ]
     },
     "execution_count": 2,
     "metadata": {},
     "output_type": "execute_result"
    }
   ],
   "source": [
    "file_url = \"http://storage.googleapis.com/download.tensorflow.org/data/heart.csv\"\n",
    "df = pd.read_csv(file_url)\n",
    "df.head()"
   ]
  },
  {
   "cell_type": "code",
   "execution_count": 3,
   "metadata": {},
   "outputs": [],
   "source": [
    "y = df.pop(\"target\")"
   ]
  },
  {
   "cell_type": "code",
   "execution_count": 4,
   "metadata": {},
   "outputs": [
    {
     "name": "stdout",
     "output_type": "stream",
     "text": [
      "<class 'pandas.core.frame.DataFrame'>\n",
      "RangeIndex: 303 entries, 0 to 302\n",
      "Data columns (total 13 columns):\n",
      " #   Column    Non-Null Count  Dtype  \n",
      "---  ------    --------------  -----  \n",
      " 0   age       303 non-null    int64  \n",
      " 1   sex       303 non-null    int64  \n",
      " 2   cp        303 non-null    int64  \n",
      " 3   trestbps  303 non-null    int64  \n",
      " 4   chol      303 non-null    int64  \n",
      " 5   fbs       303 non-null    int64  \n",
      " 6   restecg   303 non-null    int64  \n",
      " 7   thalach   303 non-null    int64  \n",
      " 8   exang     303 non-null    int64  \n",
      " 9   oldpeak   303 non-null    float64\n",
      " 10  slope     303 non-null    int64  \n",
      " 11  ca        303 non-null    int64  \n",
      " 12  thal      303 non-null    object \n",
      "dtypes: float64(1), int64(11), object(1)\n",
      "memory usage: 30.9+ KB\n"
     ]
    }
   ],
   "source": [
    "df.info()"
   ]
  },
  {
   "cell_type": "code",
   "execution_count": 5,
   "metadata": {},
   "outputs": [
    {
     "data": {
      "text/html": [
       "<div>\n",
       "<style scoped>\n",
       "    .dataframe tbody tr th:only-of-type {\n",
       "        vertical-align: middle;\n",
       "    }\n",
       "\n",
       "    .dataframe tbody tr th {\n",
       "        vertical-align: top;\n",
       "    }\n",
       "\n",
       "    .dataframe thead th {\n",
       "        text-align: right;\n",
       "    }\n",
       "</style>\n",
       "<table border=\"1\" class=\"dataframe\">\n",
       "  <thead>\n",
       "    <tr style=\"text-align: right;\">\n",
       "      <th></th>\n",
       "      <th>age</th>\n",
       "      <th>sex</th>\n",
       "      <th>cp</th>\n",
       "      <th>trestbps</th>\n",
       "      <th>chol</th>\n",
       "      <th>fbs</th>\n",
       "      <th>restecg</th>\n",
       "      <th>thalach</th>\n",
       "      <th>exang</th>\n",
       "      <th>oldpeak</th>\n",
       "      <th>slope</th>\n",
       "      <th>ca</th>\n",
       "    </tr>\n",
       "  </thead>\n",
       "  <tbody>\n",
       "    <tr>\n",
       "      <th>count</th>\n",
       "      <td>303.000000</td>\n",
       "      <td>303.000000</td>\n",
       "      <td>303.000000</td>\n",
       "      <td>303.000000</td>\n",
       "      <td>303.000000</td>\n",
       "      <td>303.000000</td>\n",
       "      <td>303.000000</td>\n",
       "      <td>303.000000</td>\n",
       "      <td>303.000000</td>\n",
       "      <td>303.000000</td>\n",
       "      <td>303.000000</td>\n",
       "      <td>303.000000</td>\n",
       "    </tr>\n",
       "    <tr>\n",
       "      <th>mean</th>\n",
       "      <td>54.594059</td>\n",
       "      <td>0.676568</td>\n",
       "      <td>3.108911</td>\n",
       "      <td>131.785479</td>\n",
       "      <td>246.547855</td>\n",
       "      <td>0.148515</td>\n",
       "      <td>0.990099</td>\n",
       "      <td>149.194719</td>\n",
       "      <td>0.326733</td>\n",
       "      <td>1.057756</td>\n",
       "      <td>1.590759</td>\n",
       "      <td>0.683168</td>\n",
       "    </tr>\n",
       "    <tr>\n",
       "      <th>std</th>\n",
       "      <td>9.016370</td>\n",
       "      <td>0.468560</td>\n",
       "      <td>1.028414</td>\n",
       "      <td>17.748338</td>\n",
       "      <td>52.175933</td>\n",
       "      <td>0.356198</td>\n",
       "      <td>0.988293</td>\n",
       "      <td>23.173368</td>\n",
       "      <td>0.469794</td>\n",
       "      <td>1.165025</td>\n",
       "      <td>0.617767</td>\n",
       "      <td>0.937773</td>\n",
       "    </tr>\n",
       "    <tr>\n",
       "      <th>min</th>\n",
       "      <td>29.000000</td>\n",
       "      <td>0.000000</td>\n",
       "      <td>0.000000</td>\n",
       "      <td>94.000000</td>\n",
       "      <td>126.000000</td>\n",
       "      <td>0.000000</td>\n",
       "      <td>0.000000</td>\n",
       "      <td>71.000000</td>\n",
       "      <td>0.000000</td>\n",
       "      <td>0.000000</td>\n",
       "      <td>1.000000</td>\n",
       "      <td>0.000000</td>\n",
       "    </tr>\n",
       "    <tr>\n",
       "      <th>25%</th>\n",
       "      <td>48.000000</td>\n",
       "      <td>0.000000</td>\n",
       "      <td>2.000000</td>\n",
       "      <td>120.000000</td>\n",
       "      <td>211.000000</td>\n",
       "      <td>0.000000</td>\n",
       "      <td>0.000000</td>\n",
       "      <td>132.000000</td>\n",
       "      <td>0.000000</td>\n",
       "      <td>0.000000</td>\n",
       "      <td>1.000000</td>\n",
       "      <td>0.000000</td>\n",
       "    </tr>\n",
       "    <tr>\n",
       "      <th>50%</th>\n",
       "      <td>56.000000</td>\n",
       "      <td>1.000000</td>\n",
       "      <td>3.000000</td>\n",
       "      <td>130.000000</td>\n",
       "      <td>241.000000</td>\n",
       "      <td>0.000000</td>\n",
       "      <td>1.000000</td>\n",
       "      <td>152.000000</td>\n",
       "      <td>0.000000</td>\n",
       "      <td>0.800000</td>\n",
       "      <td>2.000000</td>\n",
       "      <td>0.000000</td>\n",
       "    </tr>\n",
       "    <tr>\n",
       "      <th>75%</th>\n",
       "      <td>61.000000</td>\n",
       "      <td>1.000000</td>\n",
       "      <td>4.000000</td>\n",
       "      <td>140.000000</td>\n",
       "      <td>275.000000</td>\n",
       "      <td>0.000000</td>\n",
       "      <td>2.000000</td>\n",
       "      <td>165.500000</td>\n",
       "      <td>1.000000</td>\n",
       "      <td>1.600000</td>\n",
       "      <td>2.000000</td>\n",
       "      <td>1.000000</td>\n",
       "    </tr>\n",
       "    <tr>\n",
       "      <th>max</th>\n",
       "      <td>77.000000</td>\n",
       "      <td>1.000000</td>\n",
       "      <td>4.000000</td>\n",
       "      <td>200.000000</td>\n",
       "      <td>564.000000</td>\n",
       "      <td>1.000000</td>\n",
       "      <td>2.000000</td>\n",
       "      <td>202.000000</td>\n",
       "      <td>1.000000</td>\n",
       "      <td>6.200000</td>\n",
       "      <td>3.000000</td>\n",
       "      <td>3.000000</td>\n",
       "    </tr>\n",
       "  </tbody>\n",
       "</table>\n",
       "</div>"
      ],
      "text/plain": [
       "              age         sex          cp    trestbps        chol         fbs  \\\n",
       "count  303.000000  303.000000  303.000000  303.000000  303.000000  303.000000   \n",
       "mean    54.594059    0.676568    3.108911  131.785479  246.547855    0.148515   \n",
       "std      9.016370    0.468560    1.028414   17.748338   52.175933    0.356198   \n",
       "min     29.000000    0.000000    0.000000   94.000000  126.000000    0.000000   \n",
       "25%     48.000000    0.000000    2.000000  120.000000  211.000000    0.000000   \n",
       "50%     56.000000    1.000000    3.000000  130.000000  241.000000    0.000000   \n",
       "75%     61.000000    1.000000    4.000000  140.000000  275.000000    0.000000   \n",
       "max     77.000000    1.000000    4.000000  200.000000  564.000000    1.000000   \n",
       "\n",
       "          restecg     thalach       exang     oldpeak       slope          ca  \n",
       "count  303.000000  303.000000  303.000000  303.000000  303.000000  303.000000  \n",
       "mean     0.990099  149.194719    0.326733    1.057756    1.590759    0.683168  \n",
       "std      0.988293   23.173368    0.469794    1.165025    0.617767    0.937773  \n",
       "min      0.000000   71.000000    0.000000    0.000000    1.000000    0.000000  \n",
       "25%      0.000000  132.000000    0.000000    0.000000    1.000000    0.000000  \n",
       "50%      1.000000  152.000000    0.000000    0.800000    2.000000    0.000000  \n",
       "75%      2.000000  165.500000    1.000000    1.600000    2.000000    1.000000  \n",
       "max      2.000000  202.000000    1.000000    6.200000    3.000000    3.000000  "
      ]
     },
     "execution_count": 5,
     "metadata": {},
     "output_type": "execute_result"
    }
   ],
   "source": [
    "df.describe()"
   ]
  },
  {
   "cell_type": "code",
   "execution_count": 6,
   "metadata": {},
   "outputs": [
    {
     "data": {
      "text/plain": [
       "array(['fixed', 'normal', 'reversible', '1', '2'], dtype=object)"
      ]
     },
     "execution_count": 6,
     "metadata": {},
     "output_type": "execute_result"
    }
   ],
   "source": [
    "conversion_thal = {\"fixed\": 1, \"normal\": 2, \"reversible\": 3}\n",
    "df[\"thal\"].unique()"
   ]
  },
  {
   "cell_type": "code",
   "execution_count": 7,
   "metadata": {},
   "outputs": [
    {
     "data": {
      "text/plain": [
       "array([ 0,  1,  2,  3,  4,  5,  6,  7,  8, 10, 11])"
      ]
     },
     "execution_count": 7,
     "metadata": {},
     "output_type": "execute_result"
    }
   ],
   "source": [
    "df[\"thal\"] = df[\"thal\"].map(conversion_thal)\n",
    "\n",
    "categorical_features = np.where(df[list(df.columns)].dtypes != float)[0]\n",
    "categorical_features"
   ]
  },
  {
   "attachments": {},
   "cell_type": "markdown",
   "metadata": {},
   "source": [
    "Ici on fait le choix de ne garder uniquement les valeurs numériques identifiés."
   ]
  },
  {
   "cell_type": "code",
   "execution_count": 8,
   "metadata": {},
   "outputs": [],
   "source": [
    "list_numerical = [\"age\", \"thalach\", \"trestbps\", \"chol\", \"oldpeak\", \"exang\"]\n",
    "\n",
    "X = df[list_numerical]"
   ]
  },
  {
   "cell_type": "code",
   "execution_count": 9,
   "metadata": {},
   "outputs": [],
   "source": [
    "X_train, X_test, y_train, y_test = train_test_split(X, y, test_size=0.3, random_state=0)"
   ]
  },
  {
   "cell_type": "code",
   "execution_count": 10,
   "metadata": {},
   "outputs": [],
   "source": [
    "scaler = StandardScaler().fit(X_train[list_numerical])\n",
    "X_train[list_numerical] = scaler.transform(X_train[list_numerical])\n",
    "X_test[list_numerical] = scaler.transform(X_test[list_numerical])"
   ]
  },
  {
   "attachments": {},
   "cell_type": "markdown",
   "metadata": {},
   "source": [
    "# Building the model "
   ]
  },
  {
   "cell_type": "code",
   "execution_count": 11,
   "metadata": {},
   "outputs": [
    {
     "name": "stderr",
     "output_type": "stream",
     "text": [
      "2023-02-05 16:26:29.477145: I tensorflow/core/platform/cpu_feature_guard.cc:193] This TensorFlow binary is optimized with oneAPI Deep Neural Network Library (oneDNN) to use the following CPU instructions in performance-critical operations:  SSE4.1 SSE4.2 AVX AVX2\n",
      "To enable them in other operations, rebuild TensorFlow with the appropriate compiler flags.\n"
     ]
    }
   ],
   "source": [
    "model = tf.keras.Sequential(\n",
    "    [\n",
    "        tf.keras.layers.Dense(10, activation=\"relu\"),\n",
    "        tf.keras.layers.Dense(10, activation=\"relu\"),\n",
    "        tf.keras.layers.Dense(1, activation=\"sigmoid\"),\n",
    "    ]\n",
    ")"
   ]
  },
  {
   "cell_type": "code",
   "execution_count": 12,
   "metadata": {},
   "outputs": [],
   "source": [
    "model.compile(optimizer=\"adam\", loss=\"binary_crossentropy\", metrics=[\"accuracy\"])"
   ]
  },
  {
   "cell_type": "code",
   "execution_count": 13,
   "metadata": {},
   "outputs": [
    {
     "name": "stdout",
     "output_type": "stream",
     "text": [
      "Epoch 1/100\n",
      "22/22 [==============================] - 0s 7ms/step - loss: 0.7351 - accuracy: 0.5189 - val_loss: 0.7376 - val_accuracy: 0.5495\n",
      "Epoch 2/100\n",
      "22/22 [==============================] - 0s 3ms/step - loss: 0.7056 - accuracy: 0.5896 - val_loss: 0.7164 - val_accuracy: 0.6593\n",
      "Epoch 3/100\n",
      "22/22 [==============================] - 0s 3ms/step - loss: 0.6824 - accuracy: 0.6274 - val_loss: 0.6994 - val_accuracy: 0.6703\n",
      "Epoch 4/100\n",
      "22/22 [==============================] - 0s 3ms/step - loss: 0.6647 - accuracy: 0.6651 - val_loss: 0.6825 - val_accuracy: 0.7143\n",
      "Epoch 5/100\n",
      "22/22 [==============================] - 0s 3ms/step - loss: 0.6462 - accuracy: 0.6934 - val_loss: 0.6724 - val_accuracy: 0.7143\n",
      "Epoch 6/100\n",
      "22/22 [==============================] - 0s 3ms/step - loss: 0.6332 - accuracy: 0.7264 - val_loss: 0.6614 - val_accuracy: 0.7473\n",
      "Epoch 7/100\n",
      "22/22 [==============================] - 0s 3ms/step - loss: 0.6178 - accuracy: 0.7453 - val_loss: 0.6538 - val_accuracy: 0.7473\n",
      "Epoch 8/100\n",
      "22/22 [==============================] - 0s 3ms/step - loss: 0.6056 - accuracy: 0.7547 - val_loss: 0.6431 - val_accuracy: 0.7582\n",
      "Epoch 9/100\n",
      "22/22 [==============================] - 0s 3ms/step - loss: 0.5934 - accuracy: 0.7642 - val_loss: 0.6326 - val_accuracy: 0.7692\n",
      "Epoch 10/100\n",
      "22/22 [==============================] - 0s 3ms/step - loss: 0.5798 - accuracy: 0.7783 - val_loss: 0.6203 - val_accuracy: 0.7912\n",
      "Epoch 11/100\n",
      "22/22 [==============================] - 0s 3ms/step - loss: 0.5687 - accuracy: 0.7830 - val_loss: 0.6104 - val_accuracy: 0.8022\n",
      "Epoch 12/100\n",
      "22/22 [==============================] - 0s 2ms/step - loss: 0.5569 - accuracy: 0.7877 - val_loss: 0.6030 - val_accuracy: 0.7912\n",
      "Epoch 13/100\n",
      "22/22 [==============================] - 0s 3ms/step - loss: 0.5463 - accuracy: 0.7925 - val_loss: 0.5917 - val_accuracy: 0.7912\n",
      "Epoch 14/100\n",
      "22/22 [==============================] - 0s 2ms/step - loss: 0.5371 - accuracy: 0.7925 - val_loss: 0.5830 - val_accuracy: 0.7912\n",
      "Epoch 15/100\n",
      "22/22 [==============================] - 0s 3ms/step - loss: 0.5251 - accuracy: 0.7925 - val_loss: 0.5735 - val_accuracy: 0.7912\n",
      "Epoch 16/100\n",
      "22/22 [==============================] - 0s 3ms/step - loss: 0.5155 - accuracy: 0.8019 - val_loss: 0.5621 - val_accuracy: 0.7912\n",
      "Epoch 17/100\n",
      "22/22 [==============================] - 0s 4ms/step - loss: 0.5062 - accuracy: 0.7972 - val_loss: 0.5542 - val_accuracy: 0.7802\n",
      "Epoch 18/100\n",
      "22/22 [==============================] - 0s 3ms/step - loss: 0.4961 - accuracy: 0.8019 - val_loss: 0.5413 - val_accuracy: 0.7912\n",
      "Epoch 19/100\n",
      "22/22 [==============================] - 0s 3ms/step - loss: 0.4882 - accuracy: 0.8019 - val_loss: 0.5334 - val_accuracy: 0.7912\n",
      "Epoch 20/100\n",
      "22/22 [==============================] - 0s 3ms/step - loss: 0.4792 - accuracy: 0.7972 - val_loss: 0.5259 - val_accuracy: 0.7912\n",
      "Epoch 21/100\n",
      "22/22 [==============================] - 0s 2ms/step - loss: 0.4729 - accuracy: 0.7972 - val_loss: 0.5224 - val_accuracy: 0.7912\n",
      "Epoch 22/100\n",
      "22/22 [==============================] - 0s 2ms/step - loss: 0.4647 - accuracy: 0.8066 - val_loss: 0.5082 - val_accuracy: 0.7802\n",
      "Epoch 23/100\n",
      "22/22 [==============================] - 0s 3ms/step - loss: 0.4583 - accuracy: 0.8019 - val_loss: 0.5072 - val_accuracy: 0.7802\n",
      "Epoch 24/100\n",
      "22/22 [==============================] - 0s 2ms/step - loss: 0.4535 - accuracy: 0.7925 - val_loss: 0.5042 - val_accuracy: 0.7802\n",
      "Epoch 25/100\n",
      "22/22 [==============================] - 0s 3ms/step - loss: 0.4466 - accuracy: 0.7972 - val_loss: 0.4950 - val_accuracy: 0.7802\n",
      "Epoch 26/100\n",
      "22/22 [==============================] - 0s 3ms/step - loss: 0.4412 - accuracy: 0.7972 - val_loss: 0.4920 - val_accuracy: 0.7802\n",
      "Epoch 27/100\n",
      "22/22 [==============================] - 0s 3ms/step - loss: 0.4369 - accuracy: 0.8019 - val_loss: 0.4852 - val_accuracy: 0.7802\n",
      "Epoch 28/100\n",
      "22/22 [==============================] - 0s 2ms/step - loss: 0.4335 - accuracy: 0.8019 - val_loss: 0.4826 - val_accuracy: 0.7802\n",
      "Epoch 29/100\n",
      "22/22 [==============================] - 0s 3ms/step - loss: 0.4296 - accuracy: 0.8019 - val_loss: 0.4770 - val_accuracy: 0.7802\n",
      "Epoch 30/100\n",
      "22/22 [==============================] - 0s 3ms/step - loss: 0.4271 - accuracy: 0.7972 - val_loss: 0.4793 - val_accuracy: 0.7802\n",
      "Epoch 31/100\n",
      "22/22 [==============================] - 0s 3ms/step - loss: 0.4239 - accuracy: 0.7972 - val_loss: 0.4709 - val_accuracy: 0.7802\n",
      "Epoch 32/100\n",
      "22/22 [==============================] - 0s 3ms/step - loss: 0.4213 - accuracy: 0.8019 - val_loss: 0.4687 - val_accuracy: 0.7802\n",
      "Epoch 33/100\n",
      "22/22 [==============================] - 0s 2ms/step - loss: 0.4185 - accuracy: 0.8019 - val_loss: 0.4645 - val_accuracy: 0.7912\n",
      "Epoch 34/100\n",
      "22/22 [==============================] - 0s 3ms/step - loss: 0.4179 - accuracy: 0.8019 - val_loss: 0.4665 - val_accuracy: 0.7692\n",
      "Epoch 35/100\n",
      "22/22 [==============================] - 0s 3ms/step - loss: 0.4168 - accuracy: 0.7972 - val_loss: 0.4639 - val_accuracy: 0.7692\n",
      "Epoch 36/100\n",
      "22/22 [==============================] - 0s 3ms/step - loss: 0.4150 - accuracy: 0.8208 - val_loss: 0.4527 - val_accuracy: 0.7802\n",
      "Epoch 37/100\n",
      "22/22 [==============================] - 0s 3ms/step - loss: 0.4120 - accuracy: 0.8255 - val_loss: 0.4510 - val_accuracy: 0.7802\n",
      "Epoch 38/100\n",
      "22/22 [==============================] - 0s 3ms/step - loss: 0.4111 - accuracy: 0.8160 - val_loss: 0.4558 - val_accuracy: 0.7912\n",
      "Epoch 39/100\n",
      "22/22 [==============================] - 0s 2ms/step - loss: 0.4086 - accuracy: 0.8208 - val_loss: 0.4540 - val_accuracy: 0.7802\n",
      "Epoch 40/100\n",
      "22/22 [==============================] - 0s 3ms/step - loss: 0.4079 - accuracy: 0.8113 - val_loss: 0.4551 - val_accuracy: 0.7912\n",
      "Epoch 41/100\n",
      "22/22 [==============================] - 0s 3ms/step - loss: 0.4058 - accuracy: 0.8160 - val_loss: 0.4548 - val_accuracy: 0.7802\n",
      "Epoch 42/100\n",
      "22/22 [==============================] - 0s 2ms/step - loss: 0.4044 - accuracy: 0.8160 - val_loss: 0.4536 - val_accuracy: 0.7912\n",
      "Epoch 43/100\n",
      "22/22 [==============================] - 0s 3ms/step - loss: 0.4039 - accuracy: 0.8160 - val_loss: 0.4502 - val_accuracy: 0.7802\n",
      "Epoch 44/100\n",
      "22/22 [==============================] - 0s 3ms/step - loss: 0.4018 - accuracy: 0.8208 - val_loss: 0.4496 - val_accuracy: 0.7802\n",
      "Epoch 45/100\n",
      "22/22 [==============================] - 0s 3ms/step - loss: 0.4007 - accuracy: 0.8160 - val_loss: 0.4508 - val_accuracy: 0.7912\n",
      "Epoch 46/100\n",
      "22/22 [==============================] - 0s 2ms/step - loss: 0.4002 - accuracy: 0.8208 - val_loss: 0.4520 - val_accuracy: 0.7912\n",
      "Epoch 47/100\n",
      "22/22 [==============================] - 0s 2ms/step - loss: 0.3984 - accuracy: 0.8160 - val_loss: 0.4449 - val_accuracy: 0.7802\n",
      "Epoch 48/100\n",
      "22/22 [==============================] - 0s 2ms/step - loss: 0.3974 - accuracy: 0.8160 - val_loss: 0.4471 - val_accuracy: 0.7802\n",
      "Epoch 49/100\n",
      "22/22 [==============================] - 0s 3ms/step - loss: 0.3962 - accuracy: 0.8160 - val_loss: 0.4434 - val_accuracy: 0.7802\n",
      "Epoch 50/100\n",
      "22/22 [==============================] - 0s 2ms/step - loss: 0.3944 - accuracy: 0.8208 - val_loss: 0.4443 - val_accuracy: 0.7802\n",
      "Epoch 51/100\n",
      "22/22 [==============================] - 0s 3ms/step - loss: 0.3952 - accuracy: 0.8160 - val_loss: 0.4449 - val_accuracy: 0.7802\n",
      "Epoch 52/100\n",
      "22/22 [==============================] - 0s 2ms/step - loss: 0.3940 - accuracy: 0.8255 - val_loss: 0.4424 - val_accuracy: 0.7802\n",
      "Epoch 53/100\n",
      "22/22 [==============================] - 0s 10ms/step - loss: 0.3923 - accuracy: 0.8255 - val_loss: 0.4435 - val_accuracy: 0.7802\n",
      "Epoch 54/100\n",
      "22/22 [==============================] - 0s 3ms/step - loss: 0.3914 - accuracy: 0.8208 - val_loss: 0.4433 - val_accuracy: 0.7802\n",
      "Epoch 55/100\n",
      "22/22 [==============================] - 0s 4ms/step - loss: 0.3904 - accuracy: 0.8208 - val_loss: 0.4438 - val_accuracy: 0.7802\n",
      "Epoch 56/100\n",
      "22/22 [==============================] - 0s 3ms/step - loss: 0.3906 - accuracy: 0.8302 - val_loss: 0.4426 - val_accuracy: 0.7802\n",
      "Epoch 57/100\n",
      "22/22 [==============================] - 0s 3ms/step - loss: 0.3888 - accuracy: 0.8208 - val_loss: 0.4478 - val_accuracy: 0.7912\n",
      "Epoch 58/100\n",
      "22/22 [==============================] - 0s 3ms/step - loss: 0.3885 - accuracy: 0.8208 - val_loss: 0.4486 - val_accuracy: 0.7912\n",
      "Epoch 59/100\n",
      "22/22 [==============================] - 0s 3ms/step - loss: 0.3881 - accuracy: 0.8255 - val_loss: 0.4463 - val_accuracy: 0.7912\n",
      "Epoch 60/100\n",
      "22/22 [==============================] - 0s 3ms/step - loss: 0.3869 - accuracy: 0.8255 - val_loss: 0.4480 - val_accuracy: 0.7912\n",
      "Epoch 61/100\n",
      "22/22 [==============================] - 0s 3ms/step - loss: 0.3862 - accuracy: 0.8208 - val_loss: 0.4485 - val_accuracy: 0.7912\n",
      "Epoch 62/100\n",
      "22/22 [==============================] - 0s 3ms/step - loss: 0.3856 - accuracy: 0.8349 - val_loss: 0.4386 - val_accuracy: 0.7802\n",
      "Epoch 63/100\n",
      "22/22 [==============================] - 0s 3ms/step - loss: 0.3860 - accuracy: 0.8302 - val_loss: 0.4461 - val_accuracy: 0.7912\n",
      "Epoch 64/100\n",
      "22/22 [==============================] - 0s 3ms/step - loss: 0.3851 - accuracy: 0.8349 - val_loss: 0.4418 - val_accuracy: 0.7802\n",
      "Epoch 65/100\n",
      "22/22 [==============================] - 0s 2ms/step - loss: 0.3838 - accuracy: 0.8349 - val_loss: 0.4448 - val_accuracy: 0.7912\n",
      "Epoch 66/100\n",
      "22/22 [==============================] - 0s 2ms/step - loss: 0.3836 - accuracy: 0.8255 - val_loss: 0.4481 - val_accuracy: 0.7912\n",
      "Epoch 67/100\n",
      "22/22 [==============================] - 0s 2ms/step - loss: 0.3825 - accuracy: 0.8302 - val_loss: 0.4463 - val_accuracy: 0.8022\n",
      "Epoch 68/100\n",
      "22/22 [==============================] - 0s 3ms/step - loss: 0.3821 - accuracy: 0.8255 - val_loss: 0.4490 - val_accuracy: 0.8022\n",
      "Epoch 69/100\n",
      "22/22 [==============================] - 0s 2ms/step - loss: 0.3809 - accuracy: 0.8302 - val_loss: 0.4476 - val_accuracy: 0.8022\n",
      "Epoch 70/100\n",
      "22/22 [==============================] - 0s 3ms/step - loss: 0.3803 - accuracy: 0.8302 - val_loss: 0.4477 - val_accuracy: 0.8022\n",
      "Epoch 71/100\n",
      "22/22 [==============================] - 0s 3ms/step - loss: 0.3801 - accuracy: 0.8302 - val_loss: 0.4478 - val_accuracy: 0.8022\n",
      "Epoch 72/100\n",
      "22/22 [==============================] - 0s 3ms/step - loss: 0.3802 - accuracy: 0.8396 - val_loss: 0.4439 - val_accuracy: 0.8132\n",
      "Epoch 73/100\n",
      "22/22 [==============================] - 0s 3ms/step - loss: 0.3791 - accuracy: 0.8349 - val_loss: 0.4471 - val_accuracy: 0.7912\n",
      "Epoch 74/100\n",
      "22/22 [==============================] - 0s 4ms/step - loss: 0.3783 - accuracy: 0.8302 - val_loss: 0.4469 - val_accuracy: 0.7912\n",
      "Epoch 75/100\n",
      "22/22 [==============================] - 0s 3ms/step - loss: 0.3779 - accuracy: 0.8349 - val_loss: 0.4439 - val_accuracy: 0.8132\n",
      "Epoch 76/100\n",
      "22/22 [==============================] - 0s 3ms/step - loss: 0.3793 - accuracy: 0.8491 - val_loss: 0.4420 - val_accuracy: 0.8132\n",
      "Epoch 77/100\n",
      "22/22 [==============================] - 0s 3ms/step - loss: 0.3766 - accuracy: 0.8396 - val_loss: 0.4449 - val_accuracy: 0.8132\n",
      "Epoch 78/100\n",
      "22/22 [==============================] - 0s 2ms/step - loss: 0.3768 - accuracy: 0.8349 - val_loss: 0.4501 - val_accuracy: 0.8022\n",
      "Epoch 79/100\n",
      "22/22 [==============================] - 0s 3ms/step - loss: 0.3768 - accuracy: 0.8396 - val_loss: 0.4436 - val_accuracy: 0.8132\n",
      "Epoch 80/100\n",
      "22/22 [==============================] - 0s 3ms/step - loss: 0.3735 - accuracy: 0.8302 - val_loss: 0.4492 - val_accuracy: 0.8022\n",
      "Epoch 81/100\n",
      "22/22 [==============================] - 0s 3ms/step - loss: 0.3742 - accuracy: 0.8302 - val_loss: 0.4518 - val_accuracy: 0.8022\n",
      "Epoch 82/100\n",
      "22/22 [==============================] - 0s 3ms/step - loss: 0.3731 - accuracy: 0.8349 - val_loss: 0.4540 - val_accuracy: 0.8022\n",
      "Epoch 83/100\n",
      "22/22 [==============================] - 0s 3ms/step - loss: 0.3729 - accuracy: 0.8302 - val_loss: 0.4491 - val_accuracy: 0.8022\n",
      "Epoch 84/100\n",
      "22/22 [==============================] - 0s 3ms/step - loss: 0.3720 - accuracy: 0.8302 - val_loss: 0.4473 - val_accuracy: 0.8022\n",
      "Epoch 85/100\n",
      "22/22 [==============================] - 0s 3ms/step - loss: 0.3707 - accuracy: 0.8349 - val_loss: 0.4504 - val_accuracy: 0.8022\n",
      "Epoch 86/100\n",
      "22/22 [==============================] - 0s 3ms/step - loss: 0.3701 - accuracy: 0.8349 - val_loss: 0.4476 - val_accuracy: 0.8022\n",
      "Epoch 87/100\n",
      "22/22 [==============================] - 0s 3ms/step - loss: 0.3705 - accuracy: 0.8349 - val_loss: 0.4501 - val_accuracy: 0.8022\n",
      "Epoch 88/100\n",
      "22/22 [==============================] - 0s 3ms/step - loss: 0.3684 - accuracy: 0.8396 - val_loss: 0.4484 - val_accuracy: 0.8022\n",
      "Epoch 89/100\n",
      "22/22 [==============================] - 0s 3ms/step - loss: 0.3679 - accuracy: 0.8396 - val_loss: 0.4487 - val_accuracy: 0.8022\n",
      "Epoch 90/100\n",
      "22/22 [==============================] - 0s 3ms/step - loss: 0.3675 - accuracy: 0.8396 - val_loss: 0.4489 - val_accuracy: 0.7912\n",
      "Epoch 91/100\n",
      "22/22 [==============================] - 0s 4ms/step - loss: 0.3668 - accuracy: 0.8443 - val_loss: 0.4518 - val_accuracy: 0.7912\n",
      "Epoch 92/100\n",
      "22/22 [==============================] - 0s 3ms/step - loss: 0.3669 - accuracy: 0.8443 - val_loss: 0.4525 - val_accuracy: 0.8022\n",
      "Epoch 93/100\n",
      "22/22 [==============================] - 0s 3ms/step - loss: 0.3653 - accuracy: 0.8443 - val_loss: 0.4541 - val_accuracy: 0.8022\n",
      "Epoch 94/100\n",
      "22/22 [==============================] - 0s 3ms/step - loss: 0.3648 - accuracy: 0.8396 - val_loss: 0.4515 - val_accuracy: 0.8132\n",
      "Epoch 95/100\n",
      "22/22 [==============================] - 0s 2ms/step - loss: 0.3642 - accuracy: 0.8396 - val_loss: 0.4526 - val_accuracy: 0.8132\n",
      "Epoch 96/100\n",
      "22/22 [==============================] - 0s 3ms/step - loss: 0.3643 - accuracy: 0.8491 - val_loss: 0.4566 - val_accuracy: 0.8022\n",
      "Epoch 97/100\n",
      "22/22 [==============================] - 0s 3ms/step - loss: 0.3637 - accuracy: 0.8443 - val_loss: 0.4597 - val_accuracy: 0.8022\n",
      "Epoch 98/100\n",
      "22/22 [==============================] - 0s 2ms/step - loss: 0.3630 - accuracy: 0.8538 - val_loss: 0.4580 - val_accuracy: 0.8022\n",
      "Epoch 99/100\n",
      "22/22 [==============================] - 0s 3ms/step - loss: 0.3628 - accuracy: 0.8491 - val_loss: 0.4565 - val_accuracy: 0.8132\n",
      "Epoch 100/100\n",
      "22/22 [==============================] - 0s 3ms/step - loss: 0.3614 - accuracy: 0.8491 - val_loss: 0.4569 - val_accuracy: 0.8132\n"
     ]
    }
   ],
   "source": [
    "history = model.fit(\n",
    "    X_train[list_numerical],\n",
    "    y_train,\n",
    "    epochs=100,\n",
    "    batch_size=10,\n",
    "    validation_data=(X_test, y_test),\n",
    ")"
   ]
  },
  {
   "cell_type": "code",
   "execution_count": 14,
   "metadata": {},
   "outputs": [
    {
     "data": {
      "image/png": "[encoded data removed]",
      "text/plain": [
       "<IPython.core.display.Image object>"
      ]
     },
     "execution_count": 14,
     "metadata": {},
     "output_type": "execute_result"
    }
   ],
   "source": [
    "tf.keras.utils.plot_model(model, show_shapes=True, rankdir=\"LR\")"
   ]
  },
  {
   "cell_type": "code",
   "execution_count": 15,
   "metadata": {},
   "outputs": [
    {
     "name": "stdout",
     "output_type": "stream",
     "text": [
      "3/3 [==============================] - 0s 2ms/step - loss: 0.4569 - accuracy: 0.8132\n",
      "Accuracy 0.8131868243217468\n"
     ]
    }
   ],
   "source": [
    "loss, accuracy = model.evaluate(X_test, y_test)\n",
    "\n",
    "print(\"Accuracy\", accuracy)"
   ]
  },
  {
   "cell_type": "code",
   "execution_count": 16,
   "metadata": {},
   "outputs": [
    {
     "name": "stdout",
     "output_type": "stream",
     "text": [
      "INFO:tensorflow:Assets written to: classifier_hd/assets\n"
     ]
    }
   ],
   "source": [
    "model.save(\"classifier_hd\")\n",
    "reloaded_model = tf.keras.models.load_model(\"classifier_hd\")"
   ]
  },
  {
   "cell_type": "code",
   "execution_count": 17,
   "metadata": {},
   "outputs": [
    {
     "name": "stdout",
     "output_type": "stream",
     "text": [
      "7/7 [==============================] - 0s 1ms/step\n",
      "This particular patient had a 53.2 percent probability of having a heart disease, as evaluated by our model.\n"
     ]
    }
   ],
   "source": [
    "predictions = reloaded_model.predict(X_train)\n",
    "print(\n",
    "    \"This particular patient had a %.1f percent probability \"\n",
    "    \"of having a heart disease, as evaluated by our model.\" % (100 * predictions[0][0],)\n",
    ")"
   ]
  },
  {
   "attachments": {},
   "cell_type": "markdown",
   "metadata": {},
   "source": [
    "# Improve our model \n",
    "We plot the history of our val and train loss in order to see if we increase or decrease the number of epochs."
   ]
  },
  {
   "cell_type": "code",
   "execution_count": 27,
   "metadata": {},
   "outputs": [
    {
     "data": {
      "image/png": "[encoded data removed]",
      "text/plain": [
       "<Figure size 640x480 with 1 Axes>"
      ]
     },
     "metadata": {},
     "output_type": "display_data"
    }
   ],
   "source": [
    "plt.plot(history.history[\"loss\"], label=\"Training Loss\")\n",
    "plt.plot(history.history[\"val_loss\"], label=\"Validation Loss\")\n",
    "plt.legend()\n",
    "plt.show()"
   ]
  },
  {
   "attachments": {},
   "cell_type": "markdown",
   "metadata": {},
   "source": [
    "Here we can see that 35 should be a good number of epochs. "
   ]
  },
  {
   "attachments": {},
   "cell_type": "markdown",
   "metadata": {},
   "source": [
    "# SHAP "
   ]
  },
  {
   "attachments": {},
   "cell_type": "markdown",
   "metadata": {},
   "source": [
    "We use our model and a selection of 50 samples from the dataset to represent typicalf feature values , (the so called background distribution)"
   ]
  },
  {
   "cell_type": "code",
   "execution_count": 19,
   "metadata": {},
   "outputs": [],
   "source": [
    "explainer = shap.KernelExplainer(model, X_train.iloc[:50, :])"
   ]
  },
  {
   "attachments": {},
   "cell_type": "markdown",
   "metadata": {},
   "source": [
    "Now we use 500 perterbation samples to estimate the SHAP values for a given prediction (at index location 20). Note that this requires 500 * 50 evaluations of the model."
   ]
  },
  {
   "cell_type": "code",
   "execution_count": 20,
   "metadata": {},
   "outputs": [],
   "source": [
    "shap_values = explainer.shap_values(X_train.iloc[20, :], nsamples=500)"
   ]
  },
  {
   "cell_type": "code",
   "execution_count": 21,
   "metadata": {},
   "outputs": [
    {
     "data": {
      "text/html": [
       "\n",
       "<div id='iB3EGREIQD30982MAKQER'>\n",
       "<div style='color: #900; text-align: center;'>\n",
       "  <b>Visualization omitted, Javascript library not loaded!</b><br>\n",
       "  Have you run `initjs()` in this notebook? If this notebook was from another\n",
       "  user you must also trust this notebook (File -> Trust notebook). If you are viewing\n",
       "  this notebook on github the Javascript has been stripped for security. If you are using\n",
       "  JupyterLab this error is because a JupyterLab extension has not yet been written.\n",
       "</div></div>\n",
       " <script>\n",
       "   if (window.SHAP) SHAP.ReactDom.render(\n",
       "    SHAP.React.createElement(SHAP.AdditiveForceVisualizer, {\"outNames\": [\"f(x)\"], \"baseValue\": 0.26542087617330257, \"outValue\": 0.04845559084943185, \"link\": \"identity\", \"featureNames\": [\"age\", \"thalach\", \"trestbps\", \"chol\", \"oldpeak\", \"exang\"], \"features\": {\"0\": {\"effect\": 0.01648046208235125, \"value\": 0.541337993940905}, \"1\": {\"effect\": -0.06564760011776043, \"value\": 0.989688242306279}, \"2\": {\"effect\": -0.032866436631108345, \"value\": 0.9854326887895455}, \"3\": {\"effect\": 0.0016074217312659123, \"value\": -0.06238961740247601}, \"4\": {\"effect\": -0.08557355502465121, \"value\": -0.17298703693686515}, \"5\": {\"effect\": -0.050965577363967896, \"value\": -0.6723502022908507}}, \"plot_cmap\": \"RdBu\", \"labelMargin\": 20}),\n",
       "    document.getElementById('iB3EGREIQD30982MAKQER')\n",
       "  );\n",
       "</script>"
      ],
      "text/plain": [
       "<shap.plots._force.AdditiveForceVisualizer at 0x7f0796792620>"
      ]
     },
     "execution_count": 21,
     "metadata": {},
     "output_type": "execute_result"
    }
   ],
   "source": [
    "shap.force_plot(explainer.expected_value, shap_values[0], X_train.iloc[20, :])"
   ]
  },
  {
   "attachments": {},
   "cell_type": "markdown",
   "metadata": {},
   "source": [
    "## Explain many predictions"
   ]
  },
  {
   "attachments": {},
   "cell_type": "markdown",
   "metadata": {},
   "source": [
    "To understand how a single feature effects the output of the model we can plot the SHAP value of that feature vs. the value of the feature for all the examples in a dataset. Since SHAP values represent a feature’s responsibility for a change in the model output, the plot below represents the change in the dependent variable. Vertical dispersion at a single value of represents interaction effects with other features."
   ]
  },
  {
   "cell_type": "code",
   "execution_count": 22,
   "metadata": {},
   "outputs": [
    {
     "data": {
      "application/vnd.jupyter.widget-view+json": {
       "model_id": "3fe82b8e5eb04f9f81b373e21ee7ae86",
       "version_major": 2,
       "version_minor": 0
      },
      "text/plain": [
       "  0%|          | 0/50 [00:00<?, ?it/s]"
      ]
     },
     "metadata": {},
     "output_type": "display_data"
    }
   ],
   "source": [
    "shap_values50 = explainer.shap_values(X_train.iloc[50:100, :], nsamples=500)"
   ]
  },
  {
   "cell_type": "code",
   "execution_count": 23,
   "metadata": {},
   "outputs": [
    {
     "data": {
      "text/html": [
       "\n",
       "<div id='iM0D6QDG638VVUELHUWT0'>\n",
       "<div style='color: #900; text-align: center;'>\n",
       "  <b>Visualization omitted, Javascript library not loaded!</b><br>\n",
       "  Have you run `initjs()` in this notebook? If this notebook was from another\n",
       "  user you must also trust this notebook (File -> Trust notebook). If you are viewing\n",
       "  this notebook on github the Javascript has been stripped for security. If you are using\n",
       "  JupyterLab this error is because a JupyterLab extension has not yet been written.\n",
       "</div></div>\n",
       " <script>\n",
       "   if (window.SHAP) SHAP.ReactDom.render(\n",
       "    SHAP.React.createElement(SHAP.AdditiveForceArrayVisualizer, {\"outNames\": [\"f(x)\"], \"baseValue\": 0.26542087617330257, \"link\": \"identity\", \"featureNames\": [\"age\", \"thalach\", \"trestbps\", \"chol\", \"oldpeak\", \"exang\"], \"explanations\": [{\"outValue\": 0.6319631271002195, \"simIndex\": 6.0, \"features\": {\"0\": {\"effect\": -0.05658779381774375, \"value\": -1.0020733086687075}, \"1\": {\"effect\": 0.02738722198021901, \"value\": -0.05481160769462295}, \"2\": {\"effect\": -0.04997370284982038, \"value\": 0.9854326887895455}, \"3\": {\"effect\": 0.014434766784931188, \"value\": -0.2546988096543729}, \"4\": {\"effect\": 0.454118682428574, \"value\": 2.0176718113521073}, \"5\": {\"effect\": -0.022836923599243164, \"value\": -0.6723502022908507}}}, {\"outValue\": 0.33157475757723065, \"simIndex\": 15.0, \"features\": {\"0\": {\"effect\": 0.019973659468814773, \"value\": 1.0925563163014809}, \"1\": {\"effect\": 0.14498235342713706, \"value\": -1.4909989014458633}, \"2\": {\"effect\": -0.009950531600043196, \"value\": 0.9854326887895455}, \"3\": {\"effect\": -0.028853815809513166, \"value\": -0.3829049378223042}, \"4\": {\"effect\": -0.055413493995244374, \"value\": -0.09185152403727362}, \"5\": {\"effect\": -0.004584290087223053, \"value\": -0.6723502022908507}}}, {\"outValue\": 0.025477377660572453, \"simIndex\": 44.0, \"features\": {\"0\": {\"effect\": -0.048887570559357656, \"value\": -0.671342315252362}, \"1\": {\"effect\": -0.03171018552966417, \"value\": 0.6415216256393117}, \"2\": {\"effect\": -0.00023469920270143428, \"value\": -0.09813437564709122}, \"3\": {\"effect\": -0.00035138619132338116, \"value\": 0.5572733354091918}, \"4\": {\"effect\": -0.12096779394584406, \"value\": -0.9032066530331891}, \"5\": {\"effect\": -0.037791863083839417, \"value\": -0.6723502022908507}}}, {\"outValue\": 0.017594351442530687, \"simIndex\": 42.0, \"features\": {\"0\": {\"effect\": -0.06936895266796157, \"value\": -1.2225606376129379}, \"1\": {\"effect\": -0.04986726321900882, \"value\": 1.076729896473021}, \"2\": {\"effect\": 0.010117510752752454, \"value\": -0.6399179078654096}, \"3\": {\"effect\": -0.0011929300148039947, \"value\": 0.4290672072412606}, \"4\": {\"effect\": -0.10873885486895848, \"value\": -0.9032066530331891}, \"5\": {\"effect\": -0.028776034712791443, \"value\": -0.6723502022908507}}}, {\"outValue\": 0.1091810405929573, \"simIndex\": 21.0, \"features\": {\"0\": {\"effect\": 0.024852200240517677, \"value\": 0.541337993940905}, \"1\": {\"effect\": -0.08097642090093969, \"value\": 0.9461674152229081}, \"2\": {\"effect\": -0.015078116999939094, \"value\": 0.4436491565712271}, \"3\": {\"effect\": 0.024872887813641404, \"value\": 1.070097848080917}, \"4\": {\"effect\": -0.04159232420303551, \"value\": 0.07041950176190946}, \"5\": {\"effect\": -0.06831806153059006, \"value\": -0.6723502022908507}}}, {\"outValue\": 0.06813326026080171, \"simIndex\": 45.0, \"features\": {\"0\": {\"effect\": -0.04173301916647087, \"value\": -0.45085498630813164}, \"1\": {\"effect\": -0.0287915060645901, \"value\": 0.3803966631390862}, \"2\": {\"effect\": 0.012469884617409374, \"value\": -0.6399179078654096}, \"3\": {\"effect\": 0.0008029158343561281, \"value\": 1.1128332241368941}, \"4\": {\"effect\": -0.09772748609151075, \"value\": -0.4163935756356399}, \"5\": {\"effect\": -0.04230840504169464, \"value\": -0.6723502022908507}}}, {\"outValue\": 0.11318237284198407, \"simIndex\": 1.0, \"features\": {\"0\": {\"effect\": -0.16094646169804053, \"value\": -1.9942662889177443}, \"1\": {\"effect\": -0.2130780543045453, \"value\": 1.6860214756402137}, \"2\": {\"effect\": 0.0023094192612916186, \"value\": -0.09813437564709122}, \"3\": {\"effect\": -0.004581327472502948, \"value\": 0.15128726287740946}, \"4\": {\"effect\": 0.25214418084360685, \"value\": 1.9365362984525152}, \"5\": {\"effect\": -0.028086259961128235, \"value\": -0.6723502022908507}}}, {\"outValue\": 0.10394143191282637, \"simIndex\": 38.0, \"features\": {\"0\": {\"effect\": -0.028783437176995635, \"value\": -0.3406113218360165}, \"1\": {\"effect\": -0.015098101364371048, \"value\": 0.510959144389199}, \"2\": {\"effect\": 0.029696536434736784, \"value\": -1.0733447336400643}, \"3\": {\"effect\": 0.009865069511579375, \"value\": -0.27606649768236147}, \"4\": {\"effect\": -0.13207938216122186, \"value\": -0.9032066530331891}, \"5\": {\"effect\": -0.025080129504203796, \"value\": -0.6723502022908507}}}, {\"outValue\": 0.38883959422198444, \"simIndex\": 7.0, \"features\": {\"0\": {\"effect\": -0.02350020414839189, \"value\": 0.10036333605244424}, \"1\": {\"effect\": 0.13798034953263902, \"value\": -1.8826863451962015}, \"2\": {\"effect\": -0.003618490789085628, \"value\": 0.01022233079657245}, \"3\": {\"effect\": -0.11124855324936421, \"value\": -1.2589801469698345}, \"4\": {\"effect\": 0.1699868633411826, \"value\": 0.8006391178582336}, \"5\": {\"effect\": -0.046181246638298035, \"value\": 1.487320144461579}}}, {\"outValue\": 0.45812305179191765, \"simIndex\": 9.0, \"features\": {\"0\": {\"effect\": 0.0028132270129087246, \"value\": 0.541337993940905}, \"1\": {\"effect\": 0.07183710181464752, \"value\": -0.7076240139451867}, \"2\": {\"effect\": -0.003656133516536444, \"value\": -0.09813437564709122}, \"3\": {\"effect\": -0.06592465374463556, \"value\": -0.7888910103540866}, \"4\": {\"effect\": 0.17844617248435213, \"value\": 1.0440456565570082}, \"5\": {\"effect\": 0.009186461567878723, \"value\": 1.487320144461579}}}, {\"outValue\": 0.32551534822909167, \"simIndex\": 19.0, \"features\": {\"0\": {\"effect\": 0.07570391691212235, \"value\": 1.5335309741899417}, \"1\": {\"effect\": -0.018804909498430816, \"value\": 0.11927170063886072}, \"2\": {\"effect\": -0.018003591980474715, \"value\": 0.4436491565712271}, \"3\": {\"effect\": 0.005284667899832124, \"value\": -0.08375730543046456}, \"4\": {\"effect\": 0.03846737814601515, \"value\": 0.5572325791594589}, \"5\": {\"effect\": -0.022552989423274994, \"value\": -0.6723502022908507}}}, {\"outValue\": 0.02452905835583799, \"simIndex\": 43.0, \"features\": {\"0\": {\"effect\": -0.06713565297735238, \"value\": -1.2225606376129379}, \"1\": {\"effect\": -0.04145951005630198, \"value\": 0.9461674152229081}, \"2\": {\"effect\": 0.011485836002975732, \"value\": -0.6399179078654096}, \"3\": {\"effect\": 0.002650301872442203, \"value\": -0.48974337796224693}, \"4\": {\"effect\": -0.11750285875362665, \"value\": -0.9032066530331891}, \"5\": {\"effect\": -0.0289299339056015, \"value\": -0.6723502022908507}}}, {\"outValue\": 0.07973892489545203, \"simIndex\": 20.0, \"features\": {\"0\": {\"effect\": -0.012552287330618155, \"value\": -0.12012399289178612}, \"1\": {\"effect\": -0.0786490418181832, \"value\": 0.7285632798060536}, \"2\": {\"effect\": -0.04297429678748206, \"value\": 0.9854326887895455}, \"3\": {\"effect\": -0.0040369362191996, \"value\": -0.2333311216263844}, \"4\": {\"effect\": -0.015042152684569985, \"value\": 0.3949615533602758}, \"5\": {\"effect\": -0.032427236437797546, \"value\": -0.6723502022908507}}}, {\"outValue\": 0.5727588953174807, \"simIndex\": 4.0, \"features\": {\"0\": {\"effect\": 0.03919060975895269, \"value\": 0.6515816584130202}, \"1\": {\"effect\": 0.022536113262564585, \"value\": -0.1418532618613648}, \"2\": {\"effect\": -0.008147664393376003, \"value\": 0.11857903724023612}, \"3\": {\"effect\": 0.007245307149908766, \"value\": -0.1905957455704073}, \"4\": {\"effect\": 0.24410350975231285, \"value\": 1.2063166823561913}, \"5\": {\"effect\": 0.0024101436138153076, \"value\": -0.6723502022908507}}}, {\"outValue\": 0.032614800219113615, \"simIndex\": 47.0, \"features\": {\"0\": {\"effect\": -0.047638410174598377, \"value\": -0.671342315252362}, \"1\": {\"effect\": -0.05828717391317092, \"value\": 0.989688242306279}, \"2\": {\"effect\": -0.0008314354189981508, \"value\": -0.09813437564709122}, \"3\": {\"effect\": 0.001042808080092081, \"value\": 0.4931702713252262}, \"4\": {\"effect\": -0.09229173737888534, \"value\": -0.4163935756356399}, \"5\": {\"effect\": -0.034800127148628235, \"value\": -0.6723502022908507}}}, {\"outValue\": 0.5262529150831204, \"simIndex\": 5.0, \"features\": {\"0\": {\"effect\": 0.043388216088836425, \"value\": 0.3208506649966746}, \"1\": {\"effect\": -0.07119124564342207, \"value\": 0.7285632798060536}, \"2\": {\"effect\": 0.052538925471405186, \"value\": -1.0733447336400643}, \"3\": {\"effect\": 0.03103141626343133, \"value\": -0.27606649768236147}, \"4\": {\"effect\": 0.19225759591596836, \"value\": 1.1251811694565999}, \"5\": {\"effect\": 0.012807130813598633, \"value\": -0.6723502022908507}}}, {\"outValue\": 0.09736671149691872, \"simIndex\": 28.0, \"features\": {\"0\": {\"effect\": 0.04414308841611883, \"value\": 1.3130436452457113}, \"1\": {\"effect\": -0.007084470950455091, \"value\": 0.0757508735554898}, \"2\": {\"effect\": -0.030247503028173632, \"value\": 1.0937893952332092}, \"3\": {\"effect\": -0.02861369515497551, \"value\": -0.6606848821861553}, \"4\": {\"effect\": -0.09253315862539851, \"value\": -0.2541225498364567}, \"5\": {\"effect\": -0.05371842533349991, \"value\": -0.6723502022908507}}}, {\"outValue\": 0.030767818986205397, \"simIndex\": 46.0, \"features\": {\"0\": {\"effect\": -0.03838637493123922, \"value\": -0.5610986507802469}, \"1\": {\"effect\": -0.040568339112602776, \"value\": 0.6415216256393117}, \"2\": {\"effect\": -0.01665497559006323, \"value\": 0.4436491565712271}, \"3\": {\"effect\": -0.00041659541699723564, \"value\": -0.21196343359839584}, \"4\": {\"effect\": -0.10162459608982323, \"value\": -0.4163935756356399}, \"5\": {\"effect\": -0.03700217604637146, \"value\": -0.6723502022908507}}}, {\"outValue\": 0.1603905219367395, \"simIndex\": 22.0, \"features\": {\"0\": {\"effect\": -0.037727539214150355, \"value\": -0.45085498630813164}, \"1\": {\"effect\": 0.0003935606063654434, \"value\": 0.24983418188897347}, \"2\": {\"effect\": -0.0010480661915304324, \"value\": -2.048555091633037}, \"3\": {\"effect\": -0.007558311157238978, \"value\": -0.3401695617663271}, \"4\": {\"effect\": -0.10733869162698598, \"value\": -0.9032066530331891}, \"5\": {\"effect\": 0.048248693346977234, \"value\": 1.487320144461579}}}, {\"outValue\": 0.4917943045134114, \"simIndex\": 2.0, \"features\": {\"0\": {\"effect\": -0.037279063665967775, \"value\": -1.1123169731408227}, \"1\": {\"effect\": 0.015563031286971288, \"value\": -0.011290780611252028}, \"2\": {\"effect\": 0.008337707143315696, \"value\": -1.5067715594147189}, \"3\": {\"effect\": -0.023881561455588503, \"value\": -0.7461556342981095}, \"4\": {\"effect\": 0.2887035054610656, \"value\": 1.5308587339545576}, \"5\": {\"effect\": -0.0250701904296875, \"value\": 1.487320144461579}}}, {\"outValue\": 0.5203054923468153, \"simIndex\": 10.0, \"features\": {\"0\": {\"effect\": 0.04382007064947784, \"value\": 1.3130436452457113}, \"1\": {\"effect\": 0.06941010627924699, \"value\": -0.8381864951952994}, \"2\": {\"effect\": -0.01661028862678606, \"value\": -0.6399179078654096}, \"3\": {\"effect\": -0.049465088180538026, \"value\": -0.29743418571035}, \"4\": {\"effect\": 0.2102918323008151, \"value\": 1.2063166823561913}, \"5\": {\"effect\": -0.002562016248703003, \"value\": 1.487320144461579}}}, {\"outValue\": 0.1767297771153971, \"simIndex\": 24.0, \"features\": {\"0\": {\"effect\": 0.03811314112972471, \"value\": 0.8720689873572505}, \"1\": {\"effect\": -0.00921446031425145, \"value\": -0.5335407056117031}, \"2\": {\"effect\": 0.0015381026625012567, \"value\": -0.4232044949780822}, \"3\": {\"effect\": -0.06095400187963003, \"value\": -0.9812002026059835}, \"4\": {\"effect\": -0.12872633405495448, \"value\": -0.9032066530331891}, \"5\": {\"effect\": 0.07055245339870453, \"value\": 1.487320144461579}}}, {\"outValue\": 0.8330156705280146, \"simIndex\": 13.0, \"features\": {\"0\": {\"effect\": 0.09931395570747563, \"value\": 1.6437746386620569}, \"1\": {\"effect\": 0.23859863835386932, \"value\": -1.7086030368627179}, \"2\": {\"effect\": 0.0013731845809766448, \"value\": -0.09813437564709122}, \"3\": {\"effect\": 0.04080544382644192, \"value\": 1.6897608008925848}, \"4\": {\"effect\": 0.22075581111324347, \"value\": 1.0440456565570082}, \"5\": {\"effect\": -0.03325223922729492, \"value\": -0.6723502022908507}}}, {\"outValue\": 0.039751196883153095, \"simIndex\": 36.0, \"features\": {\"0\": {\"effect\": -0.06437886596734956, \"value\": -1.5532916310292835}, \"1\": {\"effect\": -0.03536832938358809, \"value\": 0.8591257610561663}, \"2\": {\"effect\": 0.030227667737441833, \"value\": -1.452593206192887}, \"3\": {\"effect\": -0.0004315096962575798, \"value\": -0.9598325145779949}, \"4\": {\"effect\": -0.13442756484340268, \"value\": -0.9032066530331891}, \"5\": {\"effect\": -0.021291077136993408, \"value\": -0.6723502022908507}}}, {\"outValue\": 0.7032610212313012, \"simIndex\": 11.0, \"features\": {\"0\": {\"effect\": 0.045723663503304264, \"value\": 0.7618253228851354}, \"1\": {\"effect\": 0.2509770440791423, \"value\": -1.9697279993629433}, \"2\": {\"effect\": -2.44273726518417e-05, \"value\": -0.6399179078654096}, \"3\": {\"effect\": 0.06888261005127184, \"value\": 0.8136855917450544}, \"4\": {\"effect\": 0.06853259947771823, \"value\": 0.23269052756109254}, \"5\": {\"effect\": 0.003748655319213867, \"value\": -0.6723502022908507}}}, {\"outValue\": 0.07069067721371536, \"simIndex\": 30.0, \"features\": {\"0\": {\"effect\": -0.0004216167629541189, \"value\": 0.21060700052455944}, \"1\": {\"effect\": 0.003688256595827032, \"value\": -0.011290780611252028}, \"2\": {\"effect\": -0.011393987203094449, \"value\": 0.4436491565712271}, \"3\": {\"effect\": -0.02967215520135751, \"value\": -1.0880386427459263}, \"4\": {\"effect\": -0.12437757494044499, \"value\": -0.5786646014348229}, \"5\": {\"effect\": -0.03255312144756317, \"value\": -0.6723502022908507}}}, {\"outValue\": 0.040080561418629534, \"simIndex\": 33.0, \"features\": {\"0\": {\"effect\": 0.00360626989471102, \"value\": 0.21060700052455944}, \"1\": {\"effect\": -0.02857898183283396, \"value\": 0.6850424527226826}, \"2\": {\"effect\": -0.040123627348414945, \"value\": 1.2021461016768729}, \"3\": {\"effect\": 0.006449901912128552, \"value\": -0.2333311216263844}, \"4\": {\"effect\": -0.11504408339775792, \"value\": -0.9032066530331891}, \"5\": {\"effect\": -0.0516497939825058, \"value\": -0.6723502022908507}}}, {\"outValue\": 0.04998755340891267, \"simIndex\": 41.0, \"features\": {\"0\": {\"effect\": -0.02267073842813265, \"value\": -0.2303676573639013}, \"1\": {\"effect\": -0.020554341746416557, \"value\": 0.510959144389199}, \"2\": {\"effect\": -0.014589070557849472, \"value\": 0.3352924501275635}, \"3\": {\"effect\": 0.006146290950709987, \"value\": -0.1905957455704073}, \"4\": {\"effect\": -0.12258027766947642, \"value\": -0.9032066530331891}, \"5\": {\"effect\": -0.04118518531322479, \"value\": -0.6723502022908507}}}, {\"outValue\": 0.1324713897674034, \"simIndex\": 27.0, \"features\": {\"0\": {\"effect\": 0.06020792886459585, \"value\": 1.0925563163014809}, \"1\": {\"effect\": -0.00846046406077221, \"value\": -0.011290780611252028}, \"2\": {\"effect\": -0.04202349372208121, \"value\": 1.2563244548987047}, \"3\": {\"effect\": 0.02234814678862072, \"value\": 0.5572733354091918}, \"4\": {\"effect\": -0.10493890789803124, \"value\": -0.2541225498364567}, \"5\": {\"effect\": -0.06008269637823105, \"value\": -0.6723502022908507}}}, {\"outValue\": 0.01387207586628697, \"simIndex\": 34.0, \"features\": {\"0\": {\"effect\": -0.01959387579311929, \"value\": -0.3406113218360165}, \"1\": {\"effect\": -0.028357719133297543, \"value\": 0.5980007985559408}, \"2\": {\"effect\": -0.04799256877352795, \"value\": 2.177356459669846}, \"3\": {\"effect\": -0.011286072432994808, \"value\": -0.9384648265500064}, \"4\": {\"effect\": -0.09890624725570292, \"value\": -0.4975290885352314}, \"5\": {\"effect\": -0.04541231691837311, \"value\": -0.6723502022908507}}}, {\"outValue\": 0.06433014471316709, \"simIndex\": 40.0, \"features\": {\"0\": {\"effect\": -0.013491783683033063, \"value\": -0.009880328419670936}, \"1\": {\"effect\": -0.013364775242128682, \"value\": 0.2933550089723444}, \"2\": {\"effect\": -0.0022470489571181033, \"value\": -0.09813437564709122}, \"3\": {\"effect\": 0.002512173948343852, \"value\": 0.407699519213272}, \"4\": {\"effect\": -0.131875583913643, \"value\": -0.9032066530331891}, \"5\": {\"effect\": -0.04262371361255646, \"value\": -0.6723502022908507}}}, {\"outValue\": 0.3816319638490677, \"simIndex\": 17.0, \"features\": {\"0\": {\"effect\": 0.014154384611174464, \"value\": 0.3208506649966746}, \"1\": {\"effect\": 0.08379143608423573, \"value\": -1.621561382695976}, \"2\": {\"effect\": 0.012003570127611371, \"value\": 0.9854326887895455}, \"3\": {\"effect\": 0.051752939308062254, \"value\": 0.5786410234371804}, \"4\": {\"effect\": -0.08286176775582142, \"value\": -0.2541225498364567}, \"5\": {\"effect\": 0.03737052530050278, \"value\": 1.487320144461579}}}, {\"outValue\": 0.04134791230084367, \"simIndex\": 37.0, \"features\": {\"0\": {\"effect\": -0.03864172075797498, \"value\": -1.4430479665571683}, \"1\": {\"effect\": -0.0013690919227276862, \"value\": 0.0757508735554898}, \"2\": {\"effect\": 0.0010575711494311716, \"value\": -0.09813437564709122}, \"3\": {\"effect\": -0.008328330078317424, \"value\": -1.3444508990817887}, \"4\": {\"effect\": -0.15804152935355295, \"value\": -0.9032066530331891}, \"5\": {\"effect\": -0.018749862909317017, \"value\": -0.6723502022908507}}}, {\"outValue\": 0.6362044820189479, \"simIndex\": 3.0, \"features\": {\"0\": {\"effect\": -0.012607543589547309, \"value\": -1.2225606376129379}, \"1\": {\"effect\": 0.040457084449008106, \"value\": -0.1853740889447357}, \"2\": {\"effect\": 0.009711166114235826, \"value\": -0.6399179078654096}, \"3\": {\"effect\": 0.012839918040360032, \"value\": -1.5794954673896628}, \"4\": {\"effect\": 0.3101048452934874, \"value\": 1.3685877081553743}, \"5\": {\"effect\": 0.010278135538101196, \"value\": 1.487320144461579}}}, {\"outValue\": 0.515519967119908, \"simIndex\": 14.0, \"features\": {\"0\": {\"effect\": 0.006805704411817755, \"value\": 0.21060700052455944}, \"1\": {\"effect\": 0.1611183007926836, \"value\": -2.622540405613507}, \"2\": {\"effect\": 0.019174025368799127, \"value\": 1.0937893952332092}, \"3\": {\"effect\": 0.07210851383667129, \"value\": 0.6641117755491346}, \"4\": {\"effect\": 0.00941322958678937, \"value\": 0.07041950176190946}, \"5\": {\"effect\": -0.01852068305015564, \"value\": 1.487320144461579}}}, {\"outValue\": 0.09444989520280309, \"simIndex\": 32.0, \"features\": {\"0\": {\"effect\": 0.011950568032140564, \"value\": 0.4310943294687898}, \"1\": {\"effect\": -0.025678313903821037, \"value\": 0.5980007985559408}, \"2\": {\"effect\": -0.007907046486313142, \"value\": 0.11857903724023612}, \"3\": {\"effect\": -0.013125327951274818, \"value\": -0.8316263864100637}, \"4\": {\"effect\": -0.09656487589236355, \"value\": -0.2541225498364567}, \"5\": {\"effect\": -0.03964598476886749, \"value\": -0.6723502022908507}}}, {\"outValue\": 0.34409411983952554, \"simIndex\": 18.0, \"features\": {\"0\": {\"effect\": 0.03926875198182342, \"value\": 0.7618253228851354}, \"1\": {\"effect\": 0.0056035774410702205, \"value\": -0.09833243477799386}, \"2\": {\"effect\": -0.0032199334159183145, \"value\": -0.09813437564709122}, \"3\": {\"effect\": -0.006509505937962481, \"value\": -0.2546988096543729}, \"4\": {\"effect\": 0.04852257042269536, \"value\": 0.5572325791594589}, \"5\": {\"effect\": -0.0049922168254852295, \"value\": -0.6723502022908507}}}, {\"outValue\": 0.040525970534848355, \"simIndex\": 50.0, \"features\": {\"0\": {\"effect\": -0.001964749098018134, \"value\": 0.541337993940905}, \"1\": {\"effect\": 0.06656767007564979, \"value\": -2.27437378894654}, \"2\": {\"effect\": 0.004016008163065066, \"value\": -0.6399179078654096}, \"3\": {\"effect\": -0.08500880795860816, \"value\": -1.387186275137766}, \"4\": {\"effect\": -0.20800930989110705, \"value\": -0.9032066530331891}, \"5\": {\"effect\": -0.00049571692943573, \"value\": -0.6723502022908507}}}, {\"outValue\": 0.08957087676545294, \"simIndex\": 31.0, \"features\": {\"0\": {\"effect\": 0.028640210756566403, \"value\": 0.6515816584130202}, \"1\": {\"effect\": -0.012358057617287454, \"value\": 0.5544799714725699}, \"2\": {\"effect\": -0.0245333363961739, \"value\": 0.8770759823458818}, \"3\": {\"effect\": -0.010447361508461931, \"value\": -0.8529940744380522}, \"4\": {\"effect\": -0.11298909182854315, \"value\": -0.9032066530331891}, \"5\": {\"effect\": -0.044162362813949585, \"value\": -0.6723502022908507}}}, {\"outValue\": 0.008487547423380093, \"simIndex\": 49.0, \"features\": {\"0\": {\"effect\": -0.06340923036914323, \"value\": -1.4430479665571683}, \"1\": {\"effect\": -0.0691637666352714, \"value\": 1.2943340318898755}, \"2\": {\"effect\": -0.01854593037472416, \"value\": 0.8770759823458818}, \"3\": {\"effect\": -0.0021359687593455142, \"value\": 0.02308113470947817}, \"4\": {\"effect\": -0.07345323017022268, \"value\": -0.2541225498364567}, \"5\": {\"effect\": -0.030225202441215515, \"value\": -0.6723502022908507}}}, {\"outValue\": 0.5387386023354097, \"simIndex\": 8.0, \"features\": {\"0\": {\"effect\": 0.01357482714811346, \"value\": 0.4310943294687898}, \"1\": {\"effect\": 0.08442691109376035, \"value\": -0.6205823597784449}, \"2\": {\"effect\": 0.00851650922947243, \"value\": -0.3148477885344186}, \"3\": {\"effect\": -0.025661110835305152, \"value\": -0.532478754018224}, \"4\": {\"effect\": 0.1803058613518565, \"value\": 0.8817746307578253}, \"5\": {\"effect\": 0.012154728174209595, \"value\": -0.6723502022908507}}}, {\"outValue\": 0.04298533848229752, \"simIndex\": 35.0, \"features\": {\"0\": {\"effect\": -0.08746960576366601, \"value\": -1.5532916310292835}, \"1\": {\"effect\": -0.008019339467621919, \"value\": 0.20631335480560256}, \"2\": {\"effect\": 0.026098747361538756, \"value\": -1.181701440083728}, \"3\": {\"effect\": 0.00297252532982388, \"value\": -0.16922805754241874}, \"4\": {\"effect\": -0.13475840827813967, \"value\": -0.9032066530331891}, \"5\": {\"effect\": -0.021259456872940063, \"value\": -0.6723502022908507}}}, {\"outValue\": 0.6276082778287432, \"simIndex\": 12.0, \"features\": {\"0\": {\"effect\": 0.033376194831604776, \"value\": 0.7618253228851354}, \"1\": {\"effect\": 0.1723530643153936, \"value\": -2.143811307696427}, \"2\": {\"effect\": -0.01615234965768953, \"value\": -0.6399179078654096}, \"3\": {\"effect\": 0.05300192669965321, \"value\": 0.5145379593532148}, \"4\": {\"effect\": 0.13673715223558253, \"value\": 0.5572325791594589}, \"5\": {\"effect\": -0.017128586769104004, \"value\": 1.487320144461579}}}, {\"outValue\": 0.2953211325410909, \"simIndex\": 23.0, \"features\": {\"0\": {\"effect\": 0.016328260506270467, \"value\": 0.21060700052455944}, \"1\": {\"effect\": 0.007528225322797282, \"value\": 0.8591257610561663}, \"2\": {\"effect\": 0.002854518365347767, \"value\": 0.01022233079657245}, \"3\": {\"effect\": -0.017830531526124117, \"value\": -0.767523322326098}, \"4\": {\"effect\": -0.08434465072156555, \"value\": -0.9032066530331891}, \"5\": {\"effect\": 0.10536443442106247, \"value\": 1.487320144461579}}}, {\"outValue\": 0.04798682745080443, \"simIndex\": 39.0, \"features\": {\"0\": {\"effect\": -0.028249255932557112, \"value\": -0.5610986507802469}, \"1\": {\"effect\": -0.022902311687357704, \"value\": 0.6415216256393117}, \"2\": {\"effect\": 0.000480181405631249, \"value\": -0.15231272886892305}, \"3\": {\"effect\": -0.006455209253666278, \"value\": -1.0025678906339721}, \"4\": {\"effect\": -0.1302243482864773, \"value\": -0.9032066530331891}, \"5\": {\"effect\": -0.030083104968070984, \"value\": -0.6723502022908507}}}, {\"outValue\": 0.16092611863433073, \"simIndex\": 25.0, \"features\": {\"0\": {\"effect\": 0.041485983467039994, \"value\": 0.9823126518293657}, \"1\": {\"effect\": -0.010409178189001955, \"value\": -1.8826863451962015}, \"2\": {\"effect\": -0.00430826339094589, \"value\": -0.2064910820907549}, \"3\": {\"effect\": 0.019678944372572043, \"value\": 0.4290672072412606}, \"4\": {\"effect\": -0.1762483643135057, \"value\": -0.7409356272340061}, \"5\": {\"effect\": 0.02530612051486969, \"value\": 1.487320144461579}}}, {\"outValue\": 0.11443381876219064, \"simIndex\": 26.0, \"features\": {\"0\": {\"effect\": 0.06541351377187923, \"value\": 1.202799980773596}, \"1\": {\"effect\": -0.00620077167016764, \"value\": 0.16279252772223163}, \"2\": {\"effect\": -0.027462334209121784, \"value\": 0.7687192759022181}, \"3\": {\"effect\": 0.01636324223751826, \"value\": 0.7495825276610888}, \"4\": {\"effect\": -0.1419391304953025, \"value\": -0.9032066530331891}, \"5\": {\"effect\": -0.05716157704591751, \"value\": -0.6723502022908507}}}, {\"outValue\": 0.0200249895488378, \"simIndex\": 29.0, \"features\": {\"0\": {\"effect\": -0.002135014997717581, \"value\": 0.21060700052455944}, \"1\": {\"effect\": -0.029701123225580245, \"value\": 1.076729896473021}, \"2\": {\"effect\": -0.016799138232211894, \"value\": 0.9854326887895455}, \"3\": {\"effect\": -0.06279607703327206, \"value\": -2.49830605259317}, \"4\": {\"effect\": -0.10099185459354586, \"value\": -0.7409356272340061}, \"5\": {\"effect\": -0.032972678542137146, \"value\": -0.6723502022908507}}}, {\"outValue\": 0.3190201155468822, \"simIndex\": 16.0, \"features\": {\"0\": {\"effect\": 0.0020488727682580654, \"value\": 0.3208506649966746}, \"1\": {\"effect\": 0.09013454990151032, \"value\": -1.1428322847788959}, \"2\": {\"effect\": 0.008561111350233356, \"value\": -1.7234849723020462}, \"3\": {\"effect\": 0.009328671218827373, \"value\": 0.10855188682143235}, \"4\": {\"effect\": -0.06518557585465416, \"value\": -0.09185152403727362}, \"5\": {\"effect\": 0.008711609989404678, \"value\": -0.6723502022908507}}}, {\"outValue\": 0.049967287303879865, \"simIndex\": 48.0, \"features\": {\"0\": {\"effect\": -0.020922878384590175, \"value\": -0.3406113218360165}, \"1\": {\"effect\": -0.05666090507681171, \"value\": 1.8165839568903266}, \"2\": {\"effect\": 0.015605676112075693, \"value\": -0.7482746143090733}, \"3\": {\"effect\": -0.005970792751759306, \"value\": -1.2162447709138575}, \"4\": {\"effect\": -0.11063471582407756, \"value\": -0.9032066530331891}, \"5\": {\"effect\": -0.036869972944259644, \"value\": -0.6723502022908507}}}], \"plot_cmap\": \"RdBu\", \"ordering_keys\": null, \"ordering_keys_time_format\": null}),\n",
       "    document.getElementById('iM0D6QDG638VVUELHUWT0')\n",
       "  );\n",
       "</script>"
      ],
      "text/plain": [
       "<shap.plots._force.AdditiveForceArrayVisualizer at 0x7f0793f66ad0>"
      ]
     },
     "execution_count": 23,
     "metadata": {},
     "output_type": "execute_result"
    }
   ],
   "source": [
    "shap.force_plot(explainer.expected_value, shap_values50[0], X_train.iloc[50:100, :])"
   ]
  },
  {
   "cell_type": "code",
   "execution_count": 24,
   "metadata": {},
   "outputs": [
    {
     "data": {
      "application/vnd.jupyter.widget-view+json": {
       "model_id": "d6f2681f71564de0a6d094db60a27ba1",
       "version_major": 2,
       "version_minor": 0
      },
      "text/plain": [
       "  0%|          | 0/212 [00:00<?, ?it/s]"
      ]
     },
     "metadata": {},
     "output_type": "display_data"
    },
    {
     "data": {
      "text/plain": [
       "(212, 6)"
      ]
     },
     "execution_count": 24,
     "metadata": {},
     "output_type": "execute_result"
    }
   ],
   "source": [
    "shap_values = explainer.shap_values(X_train, nsamples=500)\n",
    "np.shape(shap_values[0])"
   ]
  },
  {
   "cell_type": "code",
   "execution_count": 25,
   "metadata": {},
   "outputs": [
    {
     "name": "stderr",
     "output_type": "stream",
     "text": [
      "No data for colormapping provided via 'c'. Parameters 'vmin', 'vmax' will be ignored\n"
     ]
    },
    {
     "data": {
      "image/png": "[encoded data removed]",
      "text/plain": [
       "<Figure size 800x390 with 2 Axes>"
      ]
     },
     "metadata": {},
     "output_type": "display_data"
    }
   ],
   "source": [
    "shap.summary_plot(shap_values[0], X_train)"
   ]
  },
  {
   "cell_type": "markdown",
   "metadata": {},
   "source": [
    "# Catboost"
   ]
  },
  {
   "cell_type": "code",
   "execution_count": 26,
   "metadata": {},
   "outputs": [],
   "source": [
    "from catboost import CatBoostClassifier"
   ]
  }
 ],
 "metadata": {
  "kernelspec": {
   "display_name": "perso",
   "language": "python",
   "name": "python3"
  },
  "language_info": {
   "codemirror_mode": {
    "name": "ipython",
    "version": 3
   },
   "file_extension": ".py",
   "mimetype": "text/x-python",
   "name": "python",
   "nbconvert_exporter": "python",
   "pygments_lexer": "ipython3",
   "version": "3.10.8"
  },
  "orig_nbformat": 4,
  "vscode": {
   "interpreter": {
    "hash": "b441ca6a0b14e0f45f61f889efc33481c7f0becb5a645c14772208216aa08893"
   }
  }
 },
 "nbformat": 4,
 "nbformat_minor": 2
}
