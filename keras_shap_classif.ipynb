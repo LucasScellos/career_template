{
 "cells": [
  {
   "cell_type": "markdown",
   "metadata": {},
   "source": [
    "# Import, loading data and understand the problem 🚤"
   ]
  },
  {
   "cell_type": "code",
   "execution_count": 1,
   "metadata": {},
   "outputs": [
    {
     "data": {
      "text/plain": [
       "'2.9.1'"
      ]
     },
     "execution_count": 1,
     "metadata": {},
     "output_type": "execute_result"
    }
   ],
   "source": [
    "import numpy as np\n",
    "import pandas as pd\n",
    "\n",
    "import tensorflow as tf\n",
    "from tensorflow.keras import layers\n",
    "\n",
    "from sklearn.model_selection import train_test_split\n",
    "from sklearn.preprocessing import StandardScaler\n",
    "\n",
    "import shap\n",
    "tf.__version__"
   ]
  },
  {
   "cell_type": "code",
   "execution_count": 2,
   "metadata": {},
   "outputs": [
    {
     "data": {
      "text/html": [
       "<div>\n",
       "<style scoped>\n",
       "    .dataframe tbody tr th:only-of-type {\n",
       "        vertical-align: middle;\n",
       "    }\n",
       "\n",
       "    .dataframe tbody tr th {\n",
       "        vertical-align: top;\n",
       "    }\n",
       "\n",
       "    .dataframe thead th {\n",
       "        text-align: right;\n",
       "    }\n",
       "</style>\n",
       "<table border=\"1\" class=\"dataframe\">\n",
       "  <thead>\n",
       "    <tr style=\"text-align: right;\">\n",
       "      <th></th>\n",
       "      <th>age</th>\n",
       "      <th>sex</th>\n",
       "      <th>cp</th>\n",
       "      <th>trestbps</th>\n",
       "      <th>chol</th>\n",
       "      <th>fbs</th>\n",
       "      <th>restecg</th>\n",
       "      <th>thalach</th>\n",
       "      <th>exang</th>\n",
       "      <th>oldpeak</th>\n",
       "      <th>slope</th>\n",
       "      <th>ca</th>\n",
       "      <th>thal</th>\n",
       "      <th>target</th>\n",
       "    </tr>\n",
       "  </thead>\n",
       "  <tbody>\n",
       "    <tr>\n",
       "      <th>0</th>\n",
       "      <td>63</td>\n",
       "      <td>1</td>\n",
       "      <td>1</td>\n",
       "      <td>145</td>\n",
       "      <td>233</td>\n",
       "      <td>1</td>\n",
       "      <td>2</td>\n",
       "      <td>150</td>\n",
       "      <td>0</td>\n",
       "      <td>2.3</td>\n",
       "      <td>3</td>\n",
       "      <td>0</td>\n",
       "      <td>fixed</td>\n",
       "      <td>0</td>\n",
       "    </tr>\n",
       "    <tr>\n",
       "      <th>1</th>\n",
       "      <td>67</td>\n",
       "      <td>1</td>\n",
       "      <td>4</td>\n",
       "      <td>160</td>\n",
       "      <td>286</td>\n",
       "      <td>0</td>\n",
       "      <td>2</td>\n",
       "      <td>108</td>\n",
       "      <td>1</td>\n",
       "      <td>1.5</td>\n",
       "      <td>2</td>\n",
       "      <td>3</td>\n",
       "      <td>normal</td>\n",
       "      <td>1</td>\n",
       "    </tr>\n",
       "    <tr>\n",
       "      <th>2</th>\n",
       "      <td>67</td>\n",
       "      <td>1</td>\n",
       "      <td>4</td>\n",
       "      <td>120</td>\n",
       "      <td>229</td>\n",
       "      <td>0</td>\n",
       "      <td>2</td>\n",
       "      <td>129</td>\n",
       "      <td>1</td>\n",
       "      <td>2.6</td>\n",
       "      <td>2</td>\n",
       "      <td>2</td>\n",
       "      <td>reversible</td>\n",
       "      <td>0</td>\n",
       "    </tr>\n",
       "    <tr>\n",
       "      <th>3</th>\n",
       "      <td>37</td>\n",
       "      <td>1</td>\n",
       "      <td>3</td>\n",
       "      <td>130</td>\n",
       "      <td>250</td>\n",
       "      <td>0</td>\n",
       "      <td>0</td>\n",
       "      <td>187</td>\n",
       "      <td>0</td>\n",
       "      <td>3.5</td>\n",
       "      <td>3</td>\n",
       "      <td>0</td>\n",
       "      <td>normal</td>\n",
       "      <td>0</td>\n",
       "    </tr>\n",
       "    <tr>\n",
       "      <th>4</th>\n",
       "      <td>41</td>\n",
       "      <td>0</td>\n",
       "      <td>2</td>\n",
       "      <td>130</td>\n",
       "      <td>204</td>\n",
       "      <td>0</td>\n",
       "      <td>2</td>\n",
       "      <td>172</td>\n",
       "      <td>0</td>\n",
       "      <td>1.4</td>\n",
       "      <td>1</td>\n",
       "      <td>0</td>\n",
       "      <td>normal</td>\n",
       "      <td>0</td>\n",
       "    </tr>\n",
       "  </tbody>\n",
       "</table>\n",
       "</div>"
      ],
      "text/plain": [
       "   age  sex  cp  trestbps  chol  fbs  restecg  thalach  exang  oldpeak  slope  \\\n",
       "0   63    1   1       145   233    1        2      150      0      2.3      3   \n",
       "1   67    1   4       160   286    0        2      108      1      1.5      2   \n",
       "2   67    1   4       120   229    0        2      129      1      2.6      2   \n",
       "3   37    1   3       130   250    0        0      187      0      3.5      3   \n",
       "4   41    0   2       130   204    0        2      172      0      1.4      1   \n",
       "\n",
       "   ca        thal  target  \n",
       "0   0       fixed       0  \n",
       "1   3      normal       1  \n",
       "2   2  reversible       0  \n",
       "3   0      normal       0  \n",
       "4   0      normal       0  "
      ]
     },
     "execution_count": 2,
     "metadata": {},
     "output_type": "execute_result"
    }
   ],
   "source": [
    "file_url = \"http://storage.googleapis.com/download.tensorflow.org/data/heart.csv\"\n",
    "df = pd.read_csv(file_url)\n",
    "df.head()"
   ]
  },
  {
   "cell_type": "code",
   "execution_count": 3,
   "metadata": {},
   "outputs": [],
   "source": [
    "y = df.pop(\"target\")"
   ]
  },
  {
   "cell_type": "code",
   "execution_count": 4,
   "metadata": {},
   "outputs": [
    {
     "name": "stdout",
     "output_type": "stream",
     "text": [
      "<class 'pandas.core.frame.DataFrame'>\n",
      "RangeIndex: 303 entries, 0 to 302\n",
      "Data columns (total 13 columns):\n",
      " #   Column    Non-Null Count  Dtype  \n",
      "---  ------    --------------  -----  \n",
      " 0   age       303 non-null    int64  \n",
      " 1   sex       303 non-null    int64  \n",
      " 2   cp        303 non-null    int64  \n",
      " 3   trestbps  303 non-null    int64  \n",
      " 4   chol      303 non-null    int64  \n",
      " 5   fbs       303 non-null    int64  \n",
      " 6   restecg   303 non-null    int64  \n",
      " 7   thalach   303 non-null    int64  \n",
      " 8   exang     303 non-null    int64  \n",
      " 9   oldpeak   303 non-null    float64\n",
      " 10  slope     303 non-null    int64  \n",
      " 11  ca        303 non-null    int64  \n",
      " 12  thal      303 non-null    object \n",
      "dtypes: float64(1), int64(11), object(1)\n",
      "memory usage: 30.9+ KB\n"
     ]
    }
   ],
   "source": [
    "df.info()"
   ]
  },
  {
   "cell_type": "code",
   "execution_count": 5,
   "metadata": {},
   "outputs": [
    {
     "data": {
      "text/html": [
       "<div>\n",
       "<style scoped>\n",
       "    .dataframe tbody tr th:only-of-type {\n",
       "        vertical-align: middle;\n",
       "    }\n",
       "\n",
       "    .dataframe tbody tr th {\n",
       "        vertical-align: top;\n",
       "    }\n",
       "\n",
       "    .dataframe thead th {\n",
       "        text-align: right;\n",
       "    }\n",
       "</style>\n",
       "<table border=\"1\" class=\"dataframe\">\n",
       "  <thead>\n",
       "    <tr style=\"text-align: right;\">\n",
       "      <th></th>\n",
       "      <th>age</th>\n",
       "      <th>sex</th>\n",
       "      <th>cp</th>\n",
       "      <th>trestbps</th>\n",
       "      <th>chol</th>\n",
       "      <th>fbs</th>\n",
       "      <th>restecg</th>\n",
       "      <th>thalach</th>\n",
       "      <th>exang</th>\n",
       "      <th>oldpeak</th>\n",
       "      <th>slope</th>\n",
       "      <th>ca</th>\n",
       "    </tr>\n",
       "  </thead>\n",
       "  <tbody>\n",
       "    <tr>\n",
       "      <th>count</th>\n",
       "      <td>303.000000</td>\n",
       "      <td>303.000000</td>\n",
       "      <td>303.000000</td>\n",
       "      <td>303.000000</td>\n",
       "      <td>303.000000</td>\n",
       "      <td>303.000000</td>\n",
       "      <td>303.000000</td>\n",
       "      <td>303.000000</td>\n",
       "      <td>303.000000</td>\n",
       "      <td>303.000000</td>\n",
       "      <td>303.000000</td>\n",
       "      <td>303.000000</td>\n",
       "    </tr>\n",
       "    <tr>\n",
       "      <th>mean</th>\n",
       "      <td>54.594059</td>\n",
       "      <td>0.676568</td>\n",
       "      <td>3.108911</td>\n",
       "      <td>131.785479</td>\n",
       "      <td>246.547855</td>\n",
       "      <td>0.148515</td>\n",
       "      <td>0.990099</td>\n",
       "      <td>149.194719</td>\n",
       "      <td>0.326733</td>\n",
       "      <td>1.057756</td>\n",
       "      <td>1.590759</td>\n",
       "      <td>0.683168</td>\n",
       "    </tr>\n",
       "    <tr>\n",
       "      <th>std</th>\n",
       "      <td>9.016370</td>\n",
       "      <td>0.468560</td>\n",
       "      <td>1.028414</td>\n",
       "      <td>17.748338</td>\n",
       "      <td>52.175933</td>\n",
       "      <td>0.356198</td>\n",
       "      <td>0.988293</td>\n",
       "      <td>23.173368</td>\n",
       "      <td>0.469794</td>\n",
       "      <td>1.165025</td>\n",
       "      <td>0.617767</td>\n",
       "      <td>0.937773</td>\n",
       "    </tr>\n",
       "    <tr>\n",
       "      <th>min</th>\n",
       "      <td>29.000000</td>\n",
       "      <td>0.000000</td>\n",
       "      <td>0.000000</td>\n",
       "      <td>94.000000</td>\n",
       "      <td>126.000000</td>\n",
       "      <td>0.000000</td>\n",
       "      <td>0.000000</td>\n",
       "      <td>71.000000</td>\n",
       "      <td>0.000000</td>\n",
       "      <td>0.000000</td>\n",
       "      <td>1.000000</td>\n",
       "      <td>0.000000</td>\n",
       "    </tr>\n",
       "    <tr>\n",
       "      <th>25%</th>\n",
       "      <td>48.000000</td>\n",
       "      <td>0.000000</td>\n",
       "      <td>2.000000</td>\n",
       "      <td>120.000000</td>\n",
       "      <td>211.000000</td>\n",
       "      <td>0.000000</td>\n",
       "      <td>0.000000</td>\n",
       "      <td>132.000000</td>\n",
       "      <td>0.000000</td>\n",
       "      <td>0.000000</td>\n",
       "      <td>1.000000</td>\n",
       "      <td>0.000000</td>\n",
       "    </tr>\n",
       "    <tr>\n",
       "      <th>50%</th>\n",
       "      <td>56.000000</td>\n",
       "      <td>1.000000</td>\n",
       "      <td>3.000000</td>\n",
       "      <td>130.000000</td>\n",
       "      <td>241.000000</td>\n",
       "      <td>0.000000</td>\n",
       "      <td>1.000000</td>\n",
       "      <td>152.000000</td>\n",
       "      <td>0.000000</td>\n",
       "      <td>0.800000</td>\n",
       "      <td>2.000000</td>\n",
       "      <td>0.000000</td>\n",
       "    </tr>\n",
       "    <tr>\n",
       "      <th>75%</th>\n",
       "      <td>61.000000</td>\n",
       "      <td>1.000000</td>\n",
       "      <td>4.000000</td>\n",
       "      <td>140.000000</td>\n",
       "      <td>275.000000</td>\n",
       "      <td>0.000000</td>\n",
       "      <td>2.000000</td>\n",
       "      <td>165.500000</td>\n",
       "      <td>1.000000</td>\n",
       "      <td>1.600000</td>\n",
       "      <td>2.000000</td>\n",
       "      <td>1.000000</td>\n",
       "    </tr>\n",
       "    <tr>\n",
       "      <th>max</th>\n",
       "      <td>77.000000</td>\n",
       "      <td>1.000000</td>\n",
       "      <td>4.000000</td>\n",
       "      <td>200.000000</td>\n",
       "      <td>564.000000</td>\n",
       "      <td>1.000000</td>\n",
       "      <td>2.000000</td>\n",
       "      <td>202.000000</td>\n",
       "      <td>1.000000</td>\n",
       "      <td>6.200000</td>\n",
       "      <td>3.000000</td>\n",
       "      <td>3.000000</td>\n",
       "    </tr>\n",
       "  </tbody>\n",
       "</table>\n",
       "</div>"
      ],
      "text/plain": [
       "              age         sex          cp    trestbps        chol         fbs  \\\n",
       "count  303.000000  303.000000  303.000000  303.000000  303.000000  303.000000   \n",
       "mean    54.594059    0.676568    3.108911  131.785479  246.547855    0.148515   \n",
       "std      9.016370    0.468560    1.028414   17.748338   52.175933    0.356198   \n",
       "min     29.000000    0.000000    0.000000   94.000000  126.000000    0.000000   \n",
       "25%     48.000000    0.000000    2.000000  120.000000  211.000000    0.000000   \n",
       "50%     56.000000    1.000000    3.000000  130.000000  241.000000    0.000000   \n",
       "75%     61.000000    1.000000    4.000000  140.000000  275.000000    0.000000   \n",
       "max     77.000000    1.000000    4.000000  200.000000  564.000000    1.000000   \n",
       "\n",
       "          restecg     thalach       exang     oldpeak       slope          ca  \n",
       "count  303.000000  303.000000  303.000000  303.000000  303.000000  303.000000  \n",
       "mean     0.990099  149.194719    0.326733    1.057756    1.590759    0.683168  \n",
       "std      0.988293   23.173368    0.469794    1.165025    0.617767    0.937773  \n",
       "min      0.000000   71.000000    0.000000    0.000000    1.000000    0.000000  \n",
       "25%      0.000000  132.000000    0.000000    0.000000    1.000000    0.000000  \n",
       "50%      1.000000  152.000000    0.000000    0.800000    2.000000    0.000000  \n",
       "75%      2.000000  165.500000    1.000000    1.600000    2.000000    1.000000  \n",
       "max      2.000000  202.000000    1.000000    6.200000    3.000000    3.000000  "
      ]
     },
     "execution_count": 5,
     "metadata": {},
     "output_type": "execute_result"
    }
   ],
   "source": [
    "df.describe()"
   ]
  },
  {
   "cell_type": "code",
   "execution_count": 6,
   "metadata": {},
   "outputs": [
    {
     "data": {
      "text/plain": [
       "array(['fixed', 'normal', 'reversible', '1', '2'], dtype=object)"
      ]
     },
     "execution_count": 6,
     "metadata": {},
     "output_type": "execute_result"
    }
   ],
   "source": [
    "conversion_thal = {\"fixed\":1, \"normal\":2, \"reversible\":3}\n",
    "df[\"thal\"].unique()"
   ]
  },
  {
   "cell_type": "code",
   "execution_count": 7,
   "metadata": {},
   "outputs": [
    {
     "data": {
      "text/plain": [
       "array([ 0,  1,  2,  3,  4,  5,  6,  7,  8, 10, 11])"
      ]
     },
     "execution_count": 7,
     "metadata": {},
     "output_type": "execute_result"
    }
   ],
   "source": [
    "\n",
    "df[\"thal\"]= df[\"thal\"].map(conversion_thal)\n",
    "\n",
    "categorical_features = np.where(df[list(df.columns)].dtypes != float)[0]\n",
    "categorical_features"
   ]
  },
  {
   "attachments": {},
   "cell_type": "markdown",
   "metadata": {},
   "source": [
    "Ici on fait le choix de ne garder uniquement les valeurs numériques identifiés."
   ]
  },
  {
   "cell_type": "code",
   "execution_count": 24,
   "metadata": {},
   "outputs": [],
   "source": [
    "list_numerical = ['age', 'thalach', 'trestbps',  'chol', 'oldpeak']\n",
    "\n",
    "X = df[list_numerical]"
   ]
  },
  {
   "cell_type": "code",
   "execution_count": 29,
   "metadata": {},
   "outputs": [],
   "source": [
    "X_train, X_test, y_train, y_test = train_test_split(X, \n",
    "                                                    y, \n",
    "                                                    test_size=0.3, \n",
    "                                                     random_state=0)\n",
    " "
   ]
  },
  {
   "cell_type": "code",
   "execution_count": 30,
   "metadata": {},
   "outputs": [],
   "source": [
    "scaler = StandardScaler().fit(X_train[list_numerical]) \n",
    "X_train[list_numerical] = scaler.transform(X_train)\n",
    "X_test[list_numerical] = scaler.transform(X_test)"
   ]
  },
  {
   "attachments": {},
   "cell_type": "markdown",
   "metadata": {},
   "source": [
    "# Building the model "
   ]
  },
  {
   "cell_type": "code",
   "execution_count": 31,
   "metadata": {},
   "outputs": [],
   "source": [
    "model = tf.keras.Sequential([\n",
    "    tf.keras.layers.Dense(10, activation='relu'),\n",
    "    tf.keras.layers.Dense(10, activation='relu'),\n",
    "    tf.keras.layers.Dense(1, activation='sigmoid')\n",
    "  ])"
   ]
  },
  {
   "cell_type": "code",
   "execution_count": 34,
   "metadata": {},
   "outputs": [],
   "source": [
    "model.compile(optimizer=\"adam\", \n",
    "              loss =\"binary_crossentropy\", \n",
    "              metrics=[\"accuracy\"])"
   ]
  },
  {
   "cell_type": "code",
   "execution_count": 36,
   "metadata": {},
   "outputs": [
    {
     "name": "stdout",
     "output_type": "stream",
     "text": [
      "Epoch 1/10\n",
      "17/17 [==============================] - 0s 4ms/step - loss: 0.4244 - accuracy: 0.8208 - val_loss: 0.4273 - val_accuracy: 0.8022\n",
      "Epoch 2/10\n",
      "17/17 [==============================] - 0s 3ms/step - loss: 0.4230 - accuracy: 0.8208 - val_loss: 0.4277 - val_accuracy: 0.8022\n",
      "Epoch 3/10\n",
      "17/17 [==============================] - 0s 3ms/step - loss: 0.4224 - accuracy: 0.8160 - val_loss: 0.4279 - val_accuracy: 0.7912\n",
      "Epoch 4/10\n",
      "17/17 [==============================] - 0s 3ms/step - loss: 0.4212 - accuracy: 0.8208 - val_loss: 0.4287 - val_accuracy: 0.8022\n",
      "Epoch 5/10\n",
      "17/17 [==============================] - 0s 3ms/step - loss: 0.4205 - accuracy: 0.8160 - val_loss: 0.4292 - val_accuracy: 0.8022\n",
      "Epoch 6/10\n",
      "17/17 [==============================] - 0s 3ms/step - loss: 0.4205 - accuracy: 0.8208 - val_loss: 0.4295 - val_accuracy: 0.7802\n",
      "Epoch 7/10\n",
      "17/17 [==============================] - 0s 3ms/step - loss: 0.4193 - accuracy: 0.8208 - val_loss: 0.4295 - val_accuracy: 0.7912\n",
      "Epoch 8/10\n",
      "17/17 [==============================] - 0s 3ms/step - loss: 0.4189 - accuracy: 0.8208 - val_loss: 0.4307 - val_accuracy: 0.7912\n",
      "Epoch 9/10\n",
      "17/17 [==============================] - 0s 3ms/step - loss: 0.4187 - accuracy: 0.8208 - val_loss: 0.4317 - val_accuracy: 0.7912\n",
      "Epoch 10/10\n",
      "17/17 [==============================] - 0s 3ms/step - loss: 0.4176 - accuracy: 0.8208 - val_loss: 0.4312 - val_accuracy: 0.7912\n"
     ]
    },
    {
     "data": {
      "text/plain": [
       "<keras.callbacks.History at 0x7f4de3cc7e50>"
      ]
     },
     "execution_count": 36,
     "metadata": {},
     "output_type": "execute_result"
    }
   ],
   "source": [
    "model.fit(X_train[list_numerical], y_train, \n",
    "         epochs=10, \n",
    "         batch_size=13,\n",
    "         validation_data=(X_test, y_test)\n",
    "         )"
   ]
  },
  {
   "cell_type": "code",
   "execution_count": 37,
   "metadata": {},
   "outputs": [
    {
     "data": {
      "image/png": "[encoded data removed]",
      "text/plain": [
       "<IPython.core.display.Image object>"
      ]
     },
     "execution_count": 37,
     "metadata": {},
     "output_type": "execute_result"
    }
   ],
   "source": [
    "tf.keras.utils.plot_model(model, show_shapes=True, rankdir=\"LR\")"
   ]
  },
  {
   "cell_type": "code",
   "execution_count": 38,
   "metadata": {},
   "outputs": [
    {
     "name": "stdout",
     "output_type": "stream",
     "text": [
      "3/3 [==============================] - 0s 2ms/step - loss: 0.4312 - accuracy: 0.7912\n",
      "Accuracy 0.791208803653717\n"
     ]
    }
   ],
   "source": [
    "loss, accuracy = model.evaluate(X_test, y_test)\n",
    "\n",
    "print(\"Accuracy\", accuracy)"
   ]
  },
  {
   "cell_type": "code",
   "execution_count": 39,
   "metadata": {},
   "outputs": [
    {
     "name": "stdout",
     "output_type": "stream",
     "text": [
      "INFO:tensorflow:Assets written to: classifier_hd/assets\n"
     ]
    }
   ],
   "source": [
    "model.save('classifier_hd')\n",
    "reloaded_model = tf.keras.models.load_model('classifier_hd')"
   ]
  },
  {
   "cell_type": "code",
   "execution_count": 40,
   "metadata": {},
   "outputs": [
    {
     "name": "stdout",
     "output_type": "stream",
     "text": [
      "7/7 [==============================] - 0s 979us/step\n",
      "This particular patient had a 49.0 percent probability of having a heart disease, as evaluated by our model.\n"
     ]
    }
   ],
   "source": [
    "predictions = reloaded_model.predict(X_train)\n",
    "print(\n",
    "    \"This particular patient had a %.1f percent probability \"\n",
    "    \"of having a heart disease, as evaluated by our model.\" % (100 * predictions[0][0],)\n",
    ")"
   ]
  },
  {
   "attachments": {},
   "cell_type": "markdown",
   "metadata": {},
   "source": [
    "# SHAP "
   ]
  },
  {
   "attachments": {},
   "cell_type": "markdown",
   "metadata": {},
   "source": [
    "We use our model and a selection of 50 samples from the dataset to represent typicalf feature values , (the so called background distribution)"
   ]
  },
  {
   "cell_type": "code",
   "execution_count": 41,
   "metadata": {},
   "outputs": [],
   "source": [
    "explainer = shap.KernelExplainer(model, X_train.iloc[:50,:])"
   ]
  },
  {
   "attachments": {},
   "cell_type": "markdown",
   "metadata": {},
   "source": [
    "Now we use 500 perterbation samples to estimate the SHAP values for a given prediction (at index location 20). Note that this requires 500 * 50 evaluations of the model."
   ]
  },
  {
   "cell_type": "code",
   "execution_count": 42,
   "metadata": {},
   "outputs": [],
   "source": [
    "shap_values = explainer.shap_values(X_train.iloc[20,:], nsamples=500)"
   ]
  },
  {
   "cell_type": "code",
   "execution_count": 43,
   "metadata": {},
   "outputs": [
    {
     "data": {
      "text/html": [
       "\n",
       "<div id='iFEPXPGHDS1L6N53C191K'>\n",
       "<div style='color: #900; text-align: center;'>\n",
       "  <b>Visualization omitted, Javascript library not loaded!</b><br>\n",
       "  Have you run `initjs()` in this notebook? If this notebook was from another\n",
       "  user you must also trust this notebook (File -> Trust notebook). If you are viewing\n",
       "  this notebook on github the Javascript has been stripped for security. If you are using\n",
       "  JupyterLab this error is because a JupyterLab extension has not yet been written.\n",
       "</div></div>\n",
       " <script>\n",
       "   if (window.SHAP) SHAP.ReactDom.render(\n",
       "    SHAP.React.createElement(SHAP.AdditiveForceVisualizer, {\"outNames\": [\"f(x)\"], \"baseValue\": 0.28015707504004234, \"outValue\": 0.1377625300797323, \"link\": \"identity\", \"featureNames\": [\"age\", \"thalach\", \"trestbps\", \"chol\", \"oldpeak\"], \"features\": {\"0\": {\"effect\": 0.03663417116428408, \"value\": 0.541337993940905}, \"1\": {\"effect\": -0.08757138988003124, \"value\": 0.989688242306279}, \"2\": {\"effect\": -0.005170079941550901, \"value\": 0.9854326887895455}, \"3\": {\"effect\": -0.00284104164068898, \"value\": -0.06238961740247601}, \"4\": {\"effect\": -0.083446204662323, \"value\": -0.17298703693686515}}, \"plot_cmap\": \"RdBu\", \"labelMargin\": 20}),\n",
       "    document.getElementById('iFEPXPGHDS1L6N53C191K')\n",
       "  );\n",
       "</script>"
      ],
      "text/plain": [
       "<shap.plots._force.AdditiveForceVisualizer at 0x7f4de466fe20>"
      ]
     },
     "execution_count": 43,
     "metadata": {},
     "output_type": "execute_result"
    }
   ],
   "source": [
    "shap.force_plot(explainer.expected_value, shap_values[0], X_train.iloc[20,:])"
   ]
  },
  {
   "attachments": {},
   "cell_type": "markdown",
   "metadata": {},
   "source": [
    "## Explain many predictions"
   ]
  },
  {
   "attachments": {},
   "cell_type": "markdown",
   "metadata": {},
   "source": [
    "To understand how a single feature effects the output of the model we can plot the SHAP value of that feature vs. the value of the feature for all the examples in a dataset. Since SHAP values represent a feature’s responsibility for a change in the model output, the plot below represents the change in the dependent variable. Vertical dispersion at a single value of represents interaction effects with other features."
   ]
  },
  {
   "cell_type": "code",
   "execution_count": 45,
   "metadata": {},
   "outputs": [
    {
     "data": {
      "application/vnd.jupyter.widget-view+json": {
       "model_id": "42790fb698424f6c9a94b2eed24d644a",
       "version_major": 2,
       "version_minor": 0
      },
      "text/plain": [
       "  0%|          | 0/50 [00:00<?, ?it/s]"
      ]
     },
     "metadata": {},
     "output_type": "display_data"
    }
   ],
   "source": [
    "shap_values50 = explainer.shap_values(X_train.iloc[50:100,:], nsamples=500)"
   ]
  },
  {
   "cell_type": "code",
   "execution_count": 46,
   "metadata": {},
   "outputs": [
    {
     "data": {
      "text/html": [
       "\n",
       "<div id='iR246Z93RPWTQ1C2TW2BY'>\n",
       "<div style='color: #900; text-align: center;'>\n",
       "  <b>Visualization omitted, Javascript library not loaded!</b><br>\n",
       "  Have you run `initjs()` in this notebook? If this notebook was from another\n",
       "  user you must also trust this notebook (File -> Trust notebook). If you are viewing\n",
       "  this notebook on github the Javascript has been stripped for security. If you are using\n",
       "  JupyterLab this error is because a JupyterLab extension has not yet been written.\n",
       "</div></div>\n",
       " <script>\n",
       "   if (window.SHAP) SHAP.ReactDom.render(\n",
       "    SHAP.React.createElement(SHAP.AdditiveForceArrayVisualizer, {\"outNames\": [\"f(x)\"], \"baseValue\": 0.28015707504004234, \"link\": \"identity\", \"featureNames\": [\"age\", \"thalach\", \"trestbps\", \"chol\", \"oldpeak\"], \"explanations\": [{\"outValue\": 0.7331180319981649, \"simIndex\": 2.0, \"features\": {\"0\": {\"effect\": -0.016330115497112243, \"value\": -1.0020733086687075}, \"1\": {\"effect\": 0.01903775887330992, \"value\": -0.05481160769462295}, \"2\": {\"effect\": 0.05330033740028733, \"value\": 0.9854326887895455}, \"3\": {\"effect\": -0.016838471696246374, \"value\": -0.2546988096543729}, \"4\": {\"effect\": 0.4137914478778839, \"value\": 2.0176718113521073}}}, {\"outValue\": 0.3446512059028221, \"simIndex\": 14.0, \"features\": {\"0\": {\"effect\": 0.023184422673754562, \"value\": 1.0925563163014809}, \"1\": {\"effect\": 0.09708460788873093, \"value\": -1.4909989014458633}, \"2\": {\"effect\": 0.010226180449293104, \"value\": 0.9854326887895455}, \"3\": {\"effect\": -0.017849318855587562, \"value\": -0.3829049378223042}, \"4\": {\"effect\": -0.048151761293411255, \"value\": -0.09185152403727362}}}, {\"outValue\": 0.05938302440879234, \"simIndex\": 39.0, \"features\": {\"0\": {\"effect\": -0.030251663038507105, \"value\": -0.671342315252362}, \"1\": {\"effect\": -0.04450117223896084, \"value\": 0.6415216256393117}, \"2\": {\"effect\": 0.0030114116224770476, \"value\": -0.09813437564709122}, \"3\": {\"effect\": 0.004127498040907056, \"value\": 0.5572733354091918}, \"4\": {\"effect\": -0.15316012501716614, \"value\": -0.9032066530331891}}}, {\"outValue\": 0.02294029406194259, \"simIndex\": 48.0, \"features\": {\"0\": {\"effect\": -0.05420403532916679, \"value\": -1.2225606376129379}, \"1\": {\"effect\": -0.06691077081098527, \"value\": 1.076729896473021}, \"2\": {\"effect\": -0.004527127925151364, \"value\": -0.6399179078654096}, \"3\": {\"effect\": 0.0004180743203808443, \"value\": 0.4290672072412606}, \"4\": {\"effect\": -0.13199292123317719, \"value\": -0.9032066530331891}}}, {\"outValue\": 0.23901478973527746, \"simIndex\": 12.0, \"features\": {\"0\": {\"effect\": 0.04878815842481945, \"value\": 0.541337993940905}, \"1\": {\"effect\": -0.09624764178879547, \"value\": 0.9461674152229081}, \"2\": {\"effect\": 0.010675725728894261, \"value\": 0.4436491565712271}, \"3\": {\"effect\": 0.017309448262676573, \"value\": 1.070097848080917}, \"4\": {\"effect\": -0.021667975932359695, \"value\": 0.07041950176190946}}}, {\"outValue\": 0.17136263858565742, \"simIndex\": 33.0, \"features\": {\"0\": {\"effect\": -0.01239659396233036, \"value\": -0.45085498630813164}, \"1\": {\"effect\": -0.018363069108454488, \"value\": 0.3803966631390862}, \"2\": {\"effect\": 0.002568170121715713, \"value\": -0.6399179078654096}, \"3\": {\"effect\": 0.025383122657270447, \"value\": 1.1128332241368941}, \"4\": {\"effect\": -0.10598606616258621, \"value\": -0.4163935756356399}}}, {\"outValue\": 0.2668298578846345, \"simIndex\": 1.0, \"features\": {\"0\": {\"effect\": -0.15176589496065085, \"value\": -1.9942662889177443}, \"1\": {\"effect\": -0.16165920056034028, \"value\": 1.6860214756402137}, \"2\": {\"effect\": 0.00014928340436495824, \"value\": -0.09813437564709122}, \"3\": {\"effect\": -0.007797129955239845, \"value\": 0.15128726287740946}, \"4\": {\"effect\": 0.30774572491645813, \"value\": 1.9365362984525152}}}, {\"outValue\": 0.06691270442179903, \"simIndex\": 41.0, \"features\": {\"0\": {\"effect\": -0.013110594617319303, \"value\": -0.3406113218360165}, \"1\": {\"effect\": -0.03028224520506529, \"value\": 0.510959144389199}, \"2\": {\"effect\": -0.008528793883791276, \"value\": -1.0733447336400643}, \"3\": {\"effect\": -0.009227925710971873, \"value\": -0.27606649768236147}, \"4\": {\"effect\": -0.15209481120109558, \"value\": -0.9032066530331891}}}, {\"outValue\": 0.47819342554391664, \"simIndex\": 21.0, \"features\": {\"0\": {\"effect\": 0.0192033116472885, \"value\": 0.10036333605244424}, \"1\": {\"effect\": 0.0893539790607367, \"value\": -1.8826863451962015}, \"2\": {\"effect\": -0.011794550189127503, \"value\": 0.01022233079657245}, \"3\": {\"effect\": -0.05203174174918475, \"value\": -1.2589801469698345}, \"4\": {\"effect\": 0.15330535173416138, \"value\": 0.8006391178582336}}}, {\"outValue\": 0.5974625763343646, \"simIndex\": 8.0, \"features\": {\"0\": {\"effect\": 0.03727572219601521, \"value\": 0.541337993940905}, \"1\": {\"effect\": 0.08893746597847585, \"value\": -0.7076240139451867}, \"2\": {\"effect\": -0.004022203789403003, \"value\": -0.09813437564709122}, \"3\": {\"effect\": -0.018134063784964335, \"value\": -0.7888910103540866}, \"4\": {\"effect\": 0.2132485806941986, \"value\": 1.0440456565570082}}}, {\"outValue\": 0.40224759498921525, \"simIndex\": 17.0, \"features\": {\"0\": {\"effect\": 0.0404860359461357, \"value\": 1.5335309741899417}, \"1\": {\"effect\": 0.0051824371330440044, \"value\": 0.11927170063886072}, \"2\": {\"effect\": 0.006056967579449221, \"value\": 0.4436491565712271}, \"3\": {\"effect\": -0.008295252375925558, \"value\": -0.08375730543046456}, \"4\": {\"effect\": 0.07866033166646957, \"value\": 0.5572325791594589}}}, {\"outValue\": 0.02190546950014921, \"simIndex\": 47.0, \"features\": {\"0\": {\"effect\": -0.05605011993708711, \"value\": -1.2225606376129379}, \"1\": {\"effect\": -0.05740481430354215, \"value\": 0.9461674152229081}, \"2\": {\"effect\": -0.004205781205867773, \"value\": -0.6399179078654096}, \"3\": {\"effect\": -0.008379279418538027, \"value\": -0.48974337796224693}, \"4\": {\"effect\": -0.1322116106748581, \"value\": -0.9032066530331891}}}, {\"outValue\": 0.23367255992256097, \"simIndex\": 11.0, \"features\": {\"0\": {\"effect\": 0.01142138961392139, \"value\": -0.12012399289178612}, \"1\": {\"effect\": -0.08700639967185747, \"value\": 0.7285632798060536}, \"2\": {\"effect\": -0.005335820365386726, \"value\": 0.9854326887895455}, \"3\": {\"effect\": -0.011721394948350908, \"value\": -0.2333311216263844}, \"4\": {\"effect\": 0.04615771025419235, \"value\": 0.3949615533602758}}}, {\"outValue\": 0.5805145346342275, \"simIndex\": 6.0, \"features\": {\"0\": {\"effect\": 0.04337910669855771, \"value\": 0.6515816584130202}, \"1\": {\"effect\": 0.03306655630779762, \"value\": -0.1418532618613648}, \"2\": {\"effect\": 0.006015348271466797, \"value\": 0.11857903724023612}, \"3\": {\"effect\": -0.013181252536984739, \"value\": -0.1905957455704073}, \"4\": {\"effect\": 0.23107770085334778, \"value\": 1.2063166823561913}}}, {\"outValue\": 0.05414380546193562, \"simIndex\": 49.0, \"features\": {\"0\": {\"effect\": -0.03665855682920664, \"value\": -0.671342315252362}, \"1\": {\"effect\": -0.08785370644958064, \"value\": 0.989688242306279}, \"2\": {\"effect\": 0.0021078874822705457, \"value\": -0.09813437564709122}, \"3\": {\"effect\": 0.0022264545861010523, \"value\": 0.4931702713252262}, \"4\": {\"effect\": -0.10583534836769104, \"value\": -0.4163935756356399}}}, {\"outValue\": 0.46155653471127145, \"simIndex\": 5.0, \"features\": {\"0\": {\"effect\": 0.05485256082999203, \"value\": 0.3208506649966746}, \"1\": {\"effect\": -0.04185419175773855, \"value\": 0.7285632798060536}, \"2\": {\"effect\": -0.027613839708889497, \"value\": -1.0733447336400643}, \"3\": {\"effect\": -0.015022884309291835, \"value\": -0.27606649768236147}, \"4\": {\"effect\": 0.21103781461715698, \"value\": 1.1251811694565999}}}, {\"outValue\": 0.24930979113715385, \"simIndex\": 28.0, \"features\": {\"0\": {\"effect\": 0.051234917451317086, \"value\": 1.3130436452457113}, \"1\": {\"effect\": 0.014919596770778289, \"value\": 0.0757508735554898}, \"2\": {\"effect\": -0.0016977655778949267, \"value\": 1.0937893952332092}, \"3\": {\"effect\": -0.017270391566368407, \"value\": -0.6606848821861553}, \"4\": {\"effect\": -0.07803364098072052, \"value\": -0.2541225498364567}}}, {\"outValue\": 0.08019011049531391, \"simIndex\": 31.0, \"features\": {\"0\": {\"effect\": -0.027363492563987776, \"value\": -0.5610986507802469}, \"1\": {\"effect\": -0.06170023271503544, \"value\": 0.6415216256393117}, \"2\": {\"effect\": 0.007514702350211608, \"value\": 0.4436491565712271}, \"3\": {\"effect\": -0.007905744598247132, \"value\": -0.21196343359839584}, \"4\": {\"effect\": -0.11051219701766968, \"value\": -0.4163935756356399}}}, {\"outValue\": 0.07511227781418706, \"simIndex\": 43.0, \"features\": {\"0\": {\"effect\": -0.016689363292728868, \"value\": -0.45085498630813164}, \"1\": {\"effect\": -0.0064517229407404855, \"value\": 0.24983418188897347}, \"2\": {\"effect\": -0.03226466112925358, \"value\": -2.048555091633037}, \"3\": {\"effect\": -0.008736798857959617, \"value\": -0.3401695617663271}, \"4\": {\"effect\": -0.14090225100517273, \"value\": -0.9032066530331891}}}, {\"outValue\": 0.4813875778671353, \"simIndex\": 4.0, \"features\": {\"0\": {\"effect\": -0.028460714484875416, \"value\": -1.1123169731408227}, \"1\": {\"effect\": 0.0020625053206458493, \"value\": -0.011290780611252028}, \"2\": {\"effect\": -0.06305048116482789, \"value\": -1.5067715594147189}, \"3\": {\"effect\": -0.0123154157229389, \"value\": -0.7461556342981095}, \"4\": {\"effect\": 0.30299460887908936, \"value\": 1.5308587339545576}}}, {\"outValue\": 0.5930958336467543, \"simIndex\": 7.0, \"features\": {\"0\": {\"effect\": 0.028884624006847548, \"value\": 1.3130436452457113}, \"1\": {\"effect\": 0.08453678016861269, \"value\": -0.8381864951952994}, \"2\": {\"effect\": -0.01871526936690007, \"value\": -0.6399179078654096}, \"3\": {\"effect\": -0.009836323993901379, \"value\": -0.29743418571035}, \"4\": {\"effect\": 0.22806894779205322, \"value\": 1.2063166823561913}}}, {\"outValue\": 0.24448348961460087, \"simIndex\": 24.0, \"features\": {\"0\": {\"effect\": 0.057249119520808245, \"value\": 0.8720689873572505}, \"1\": {\"effect\": 0.0570585816322515, \"value\": -0.5335407056117031}, \"2\": {\"effect\": 0.007514790724962972, \"value\": -0.4232044949780822}, \"3\": {\"effect\": -0.009109658484036685, \"value\": -0.9812002026059835}, \"4\": {\"effect\": -0.1483864188194275, \"value\": -0.9032066530331891}}}, {\"outValue\": 0.6831893116716916, \"simIndex\": 10.0, \"features\": {\"0\": {\"effect\": 0.017794473197621674, \"value\": 1.6437746386620569}, \"1\": {\"effect\": 0.09554449323719981, \"value\": -1.7086030368627179}, \"2\": {\"effect\": 0.0006112744100392337, \"value\": -0.09813437564709122}, \"3\": {\"effect\": 0.06925416499531513, \"value\": 1.6897608008925848}, \"4\": {\"effect\": 0.2198278307914734, \"value\": 1.0440456565570082}}}, {\"outValue\": 0.016974109482640887, \"simIndex\": 46.0, \"features\": {\"0\": {\"effect\": -0.07035531462170184, \"value\": -1.5532916310292835}, \"1\": {\"effect\": -0.044985919740671884, \"value\": 0.8591257610561663}, \"2\": {\"effect\": -0.01582320920812591, \"value\": -1.452593206192887}, \"3\": {\"effect\": -0.00719931777566675, \"value\": -0.9598325145779949}, \"4\": {\"effect\": -0.12481920421123505, \"value\": -0.9032066530331891}}}, {\"outValue\": 0.4846914621978066, \"simIndex\": 20.0, \"features\": {\"0\": {\"effect\": 0.037740930041763945, \"value\": 0.7618253228851354}, \"1\": {\"effect\": 0.11143134726444251, \"value\": -1.9697279993629433}, \"2\": {\"effect\": -0.017927638536396673, \"value\": -0.6399179078654096}, \"3\": {\"effect\": 0.02786543603482035, \"value\": 0.8136855917450544}, \"4\": {\"effect\": 0.045424312353134155, \"value\": 0.23269052756109254}}}, {\"outValue\": 0.20971980858749395, \"simIndex\": 27.0, \"features\": {\"0\": {\"effect\": 0.0291064870931829, \"value\": 0.21060700052455944}, \"1\": {\"effect\": 0.024861305505813384, \"value\": -0.011290780611252028}, \"2\": {\"effect\": 0.008272239433911949, \"value\": 0.4436491565712271}, \"3\": {\"effect\": -0.008840058445154352, \"value\": -1.0880386427459263}, \"4\": {\"effect\": -0.12383724004030228, \"value\": -0.5786646014348229}}}, {\"outValue\": 0.07352457969449452, \"simIndex\": 37.0, \"features\": {\"0\": {\"effect\": 0.014234677531445986, \"value\": 0.21060700052455944}, \"1\": {\"effect\": -0.051317561464384154, \"value\": 0.6850424527226826}, \"2\": {\"effect\": 0.0009415693270663321, \"value\": 1.2021461016768729}, \"3\": {\"effect\": -0.002966842971121283, \"value\": -0.2333311216263844}, \"4\": {\"effect\": -0.1675243377685547, \"value\": -0.9032066530331891}}}, {\"outValue\": 0.07964066446642384, \"simIndex\": 42.0, \"features\": {\"0\": {\"effect\": -0.005976661613870737, \"value\": -0.2303676573639013}, \"1\": {\"effect\": -0.034470779419643785, \"value\": 0.510959144389199}, \"2\": {\"effect\": 0.005001448457672555, \"value\": 0.3352924501275635}, \"3\": {\"effect\": -0.004671040651737714, \"value\": -0.1905957455704073}, \"4\": {\"effect\": -0.16039937734603882, \"value\": -0.9032066530331891}}}, {\"outValue\": 0.30633576040621846, \"simIndex\": 29.0, \"features\": {\"0\": {\"effect\": 0.06005895506435385, \"value\": 1.0925563163014809}, \"1\": {\"effect\": 0.027490063686855123, \"value\": -0.011290780611252028}, \"2\": {\"effect\": 0.004376732239810145, \"value\": 1.2563244548987047}, \"3\": {\"effect\": 0.012616896846642113, \"value\": 0.5572733354091918}, \"4\": {\"effect\": -0.07836396247148514, \"value\": -0.2541225498364567}}}, {\"outValue\": 0.07452073087416156, \"simIndex\": 32.0, \"features\": {\"0\": {\"effect\": -0.00870583276167361, \"value\": -0.3406113218360165}, \"1\": {\"effect\": -0.05505225658538007, \"value\": 0.5980007985559408}, \"2\": {\"effect\": -0.0025691041812630905, \"value\": 2.177356459669846}, \"3\": {\"effect\": -0.011992973746237104, \"value\": -0.9384648265500064}, \"4\": {\"effect\": -0.1273161768913269, \"value\": -0.4975290885352314}}}, {\"outValue\": 0.12135256475846587, \"simIndex\": 26.0, \"features\": {\"0\": {\"effect\": 0.008784425472064558, \"value\": -0.009880328419670936}, \"1\": {\"effect\": -0.009578483695319532, \"value\": 0.2933550089723444}, \"2\": {\"effect\": 0.005499204298636563, \"value\": -0.09813437564709122}, \"3\": {\"effect\": 0.002723123265119888, \"value\": 0.407699519213272}, \"4\": {\"effect\": -0.16623277962207794, \"value\": -0.9032066530331891}}}, {\"outValue\": 0.45000808624861144, \"simIndex\": 15.0, \"features\": {\"0\": {\"effect\": 0.03922630466210353, \"value\": 0.3208506649966746}, \"1\": {\"effect\": 0.1454089905600994, \"value\": -1.621561382695976}, \"2\": {\"effect\": 0.031541800048823204, \"value\": 0.9854326887895455}, \"3\": {\"effect\": 0.020336942747235326, \"value\": 0.5786410234371804}, \"4\": {\"effect\": -0.06666302680969238, \"value\": -0.2541225498364567}}}, {\"outValue\": 0.05847741257709754, \"simIndex\": 44.0, \"features\": {\"0\": {\"effect\": -0.06912933558536068, \"value\": -1.4430479665571683}, \"1\": {\"effect\": 0.005947501468472165, \"value\": 0.0757508735554898}, \"2\": {\"effect\": 0.0019263627395654376, \"value\": -0.09813437564709122}, \"3\": {\"effect\": -0.007266688672825705, \"value\": -1.3444508990817887}, \"4\": {\"effect\": -0.15315750241279602, \"value\": -0.9032066530331891}}}, {\"outValue\": 0.6626085510415335, \"simIndex\": 3.0, \"features\": {\"0\": {\"effect\": -0.0001085132205237635, \"value\": -1.2225606376129379}, \"1\": {\"effect\": 0.05396968054895595, \"value\": -0.1853740889447357}, \"2\": {\"effect\": -0.012151319393888083, \"value\": -0.6399179078654096}, \"3\": {\"effect\": 0.028299772397925433, \"value\": -1.5794954673896628}, \"4\": {\"effect\": 0.3124418556690216, \"value\": 1.3685877081553743}}}, {\"outValue\": 0.5126905305093775, \"simIndex\": 16.0, \"features\": {\"0\": {\"effect\": 0.022543598633880474, \"value\": 0.21060700052455944}, \"1\": {\"effect\": 0.15958019288567196, \"value\": -2.622540405613507}, \"2\": {\"effect\": 0.024363182919720894, \"value\": 1.0937893952332092}, \"3\": {\"effect\": 0.02970811356790362, \"value\": 0.6641117755491346}, \"4\": {\"effect\": -0.003661632537841797, \"value\": 0.07041950176190946}}}, {\"outValue\": 0.17571195693414962, \"simIndex\": 30.0, \"features\": {\"0\": {\"effect\": 0.03992875149124297, \"value\": 0.4310943294687898}, \"1\": {\"effect\": -0.04996175121244349, \"value\": 0.5980007985559408}, \"2\": {\"effect\": 0.0024963563075289102, \"value\": 0.11857903724023612}, \"3\": {\"effect\": -0.013156930335874962, \"value\": -0.8316263864100637}, \"4\": {\"effect\": -0.08375154435634613, \"value\": -0.2541225498364567}}}, {\"outValue\": 0.4248280703881755, \"simIndex\": 18.0, \"features\": {\"0\": {\"effect\": 0.05741947725570446, \"value\": 0.7618253228851354}, \"1\": {\"effect\": 0.023011693257528033, \"value\": -0.09833243477799386}, \"2\": {\"effect\": -0.009202532749623033, \"value\": -0.09813437564709122}, \"3\": {\"effect\": -0.018613976434183575, \"value\": -0.2546988096543729}, \"4\": {\"effect\": 0.09205633401870728, \"value\": 0.5572325791594589}}}, {\"outValue\": 0.20201753192581232, \"simIndex\": 22.0, \"features\": {\"0\": {\"effect\": 0.02864611588108043, \"value\": 0.541337993940905}, \"1\": {\"effect\": 0.08345067490202679, \"value\": -2.27437378894654}, \"2\": {\"effect\": -0.013056225252027286, \"value\": -0.6399179078654096}, \"3\": {\"effect\": -0.017691803195824175, \"value\": -1.387186275137766}, \"4\": {\"effect\": -0.15948830544948578, \"value\": -0.9032066530331891}}}, {\"outValue\": 0.11830385105723198, \"simIndex\": 36.0, \"features\": {\"0\": {\"effect\": 0.03597592493752013, \"value\": 0.6515816584130202}, \"1\": {\"effect\": -0.03494230478148283, \"value\": 0.5544799714725699}, \"2\": {\"effect\": 0.0017391306095911815, \"value\": 0.8770759823458818}, \"3\": {\"effect\": -0.005716400597399712, \"value\": -0.8529940744380522}, \"4\": {\"effect\": -0.15890957415103912, \"value\": -0.9032066530331891}}}, {\"outValue\": 0.02533798474818455, \"simIndex\": 50.0, \"features\": {\"0\": {\"effect\": -0.0685652362803618, \"value\": -1.4430479665571683}, \"1\": {\"effect\": -0.10749389591316376, \"value\": 1.2943340318898755}, \"2\": {\"effect\": 0.008300432050600576, \"value\": 0.8770759823458818}, \"3\": {\"effect\": -0.004226220880324705, \"value\": 0.02308113470947817}, \"4\": {\"effect\": -0.0828341692686081, \"value\": -0.2541225498364567}}}, {\"outValue\": 0.5628114772374586, \"simIndex\": 9.0, \"features\": {\"0\": {\"effect\": 0.046948461286956455, \"value\": 0.4310943294687898}, \"1\": {\"effect\": 0.08061615715074966, \"value\": -0.6205823597784449}, \"2\": {\"effect\": -0.010663262094991868, \"value\": -0.3148477885344186}, \"3\": {\"effect\": -0.015230914773807502, \"value\": -0.532478754018224}, \"4\": {\"effect\": 0.18098396062850952, \"value\": 0.8817746307578253}}}, {\"outValue\": 0.0368421422177925, \"simIndex\": 45.0, \"features\": {\"0\": {\"effect\": -0.08309909411861245, \"value\": -1.5532916310292835}, \"1\": {\"effect\": -0.008439708050961309, \"value\": 0.20631335480560256}, \"2\": {\"effect\": -0.01821383125303936, \"value\": -1.181701440083728}, \"3\": {\"effect\": -0.006913485913537465, \"value\": -0.16922805754241874}, \"4\": {\"effect\": -0.12664881348609924, \"value\": -0.9032066530331891}}}, {\"outValue\": 0.5136104097838202, \"simIndex\": 19.0, \"features\": {\"0\": {\"effect\": 0.027172633943458452, \"value\": 0.7618253228851354}, \"1\": {\"effect\": 0.10401966969172148, \"value\": -2.143811307696427}, \"2\": {\"effect\": -0.02697490241844199, \"value\": -0.6399179078654096}, \"3\": {\"effect\": 0.018276090725945937, \"value\": 0.5145379593532148}, \"4\": {\"effect\": 0.11095984280109406, \"value\": 0.5572325791594589}}}, {\"outValue\": 0.06702522110970066, \"simIndex\": 38.0, \"features\": {\"0\": {\"effect\": 0.014237497397698428, \"value\": 0.21060700052455944}, \"1\": {\"effect\": -0.06219344934603814, \"value\": 0.8591257610561663}, \"2\": {\"effect\": 0.002449810551479442, \"value\": 0.01022233079657245}, \"3\": {\"effect\": -0.007549034734256572, \"value\": -0.767523322326098}, \"4\": {\"effect\": -0.16007667779922485, \"value\": -0.9032066530331891}}}, {\"outValue\": 0.051883809025554534, \"simIndex\": 40.0, \"features\": {\"0\": {\"effect\": -0.022917341421513526, \"value\": -0.5610986507802469}, \"1\": {\"effect\": -0.044112099625635844, \"value\": 0.6415216256393117}, \"2\": {\"effect\": 0.0015686615370213777, \"value\": -0.15231272886892305}, \"3\": {\"effect\": -0.008944258307262025, \"value\": -1.0025678906339721}, \"4\": {\"effect\": -0.15386822819709778, \"value\": -0.9032066530331891}}}, {\"outValue\": 0.2610864203470312, \"simIndex\": 23.0, \"features\": {\"0\": {\"effect\": 0.03534946207728357, \"value\": 0.9823126518293657}, \"1\": {\"effect\": 0.08664936096247394, \"value\": -1.8826863451962015}, \"2\": {\"effect\": -0.0015285580797353149, \"value\": -0.2064910820907549}, \"3\": {\"effect\": 0.005686214574719392, \"value\": 0.4290672072412606}, \"4\": {\"effect\": -0.14522713422775269, \"value\": -0.7409356272340061}}}, {\"outValue\": 0.189256118540264, \"simIndex\": 25.0, \"features\": {\"0\": {\"effect\": 0.05696295838376195, \"value\": 1.202799980773596}, \"1\": {\"effect\": 0.006485568662174049, \"value\": 0.16279252772223163}, \"2\": {\"effect\": 0.005562007351545641, \"value\": 0.7687192759022181}, \"3\": {\"effect\": 0.00889768459407303, \"value\": 0.7495825276610888}, \"4\": {\"effect\": -0.168809175491333, \"value\": -0.9032066530331891}}}, {\"outValue\": 0.05108656924528371, \"simIndex\": 34.0, \"features\": {\"0\": {\"effect\": 0.013248828014669263, \"value\": 0.21060700052455944}, \"1\": {\"effect\": -0.08061254454466199, \"value\": 1.076729896473021}, \"2\": {\"effect\": -0.003782330499961989, \"value\": 0.9854326887895455}, \"3\": {\"effect\": -0.021330252670062076, \"value\": -2.49830605259317}, \"4\": {\"effect\": -0.13659420609474182, \"value\": -0.7409356272340061}}}, {\"outValue\": 0.31735201082347575, \"simIndex\": 13.0, \"features\": {\"0\": {\"effect\": 0.04426553303686279, \"value\": 0.3208506649966746}, \"1\": {\"effect\": 0.08324100571529314, \"value\": -1.1428322847788959}, \"2\": {\"effect\": -0.052189961525921966, \"value\": -1.7234849723020462}, \"3\": {\"effect\": -0.0010219223952541538, \"value\": 0.10855188682143235}, \"4\": {\"effect\": -0.03709971904754639, \"value\": -0.09185152403727362}}}, {\"outValue\": 0.01674832380168173, \"simIndex\": 35.0, \"features\": {\"0\": {\"effect\": -0.009489409486802047, \"value\": -0.3406113218360165}, \"1\": {\"effect\": -0.10610790580612947, \"value\": 1.8165839568903266}, \"2\": {\"effect\": -0.003196964101759195, \"value\": -0.7482746143090733}, \"3\": {\"effect\": -0.004710449626873038, \"value\": -1.2162447709138575}, \"4\": {\"effect\": -0.13990402221679688, \"value\": -0.9032066530331891}}}], \"plot_cmap\": \"RdBu\", \"ordering_keys\": null, \"ordering_keys_time_format\": null}),\n",
       "    document.getElementById('iR246Z93RPWTQ1C2TW2BY')\n",
       "  );\n",
       "</script>"
      ],
      "text/plain": [
       "<shap.plots._force.AdditiveForceArrayVisualizer at 0x7f4de466ee90>"
      ]
     },
     "execution_count": 46,
     "metadata": {},
     "output_type": "execute_result"
    }
   ],
   "source": [
    "shap.force_plot(explainer.expected_value, shap_values50[0], X_train.iloc[50:100,:])"
   ]
  },
  {
   "cell_type": "code",
   "execution_count": 60,
   "metadata": {},
   "outputs": [
    {
     "data": {
      "application/vnd.jupyter.widget-view+json": {
       "model_id": "ec23e1b0befd49e7a036ba9fba3fc87c",
       "version_major": 2,
       "version_minor": 0
      },
      "text/plain": [
       "  0%|          | 0/212 [00:00<?, ?it/s]"
      ]
     },
     "metadata": {},
     "output_type": "display_data"
    },
    {
     "data": {
      "text/plain": [
       "(212, 5)"
      ]
     },
     "execution_count": 60,
     "metadata": {},
     "output_type": "execute_result"
    }
   ],
   "source": [
    "shap_values = explainer.shap_values(X_train, nsamples=500)\n",
    "np.shape(shap_values[0])"
   ]
  },
  {
   "cell_type": "code",
   "execution_count": 61,
   "metadata": {},
   "outputs": [
    {
     "name": "stderr",
     "output_type": "stream",
     "text": [
      "No data for colormapping provided via 'c'. Parameters 'vmin', 'vmax' will be ignored\n"
     ]
    },
    {
     "data": {
      "image/png": "[encoded data removed]",
      "text/plain": [
       "<Figure size 800x350 with 2 Axes>"
      ]
     },
     "metadata": {},
     "output_type": "display_data"
    }
   ],
   "source": [
    "shap.summary_plot(shap_values[0], X_train)"
   ]
  },
  {
   "cell_type": "markdown",
   "metadata": {},
   "source": [
    "# Catboost"
   ]
  },
  {
   "cell_type": "code",
   "execution_count": null,
   "metadata": {},
   "outputs": [],
   "source": [
    "from catboost import CatBoostClassifier\n"
   ]
  }
 ],
 "metadata": {
  "kernelspec": {
   "display_name": "perso",
   "language": "python",
   "name": "python3"
  },
  "language_info": {
   "codemirror_mode": {
    "name": "ipython",
    "version": 3
   },
   "file_extension": ".py",
   "mimetype": "text/x-python",
   "name": "python",
   "nbconvert_exporter": "python",
   "pygments_lexer": "ipython3",
   "version": "3.10.8"
  },
  "orig_nbformat": 4,
  "vscode": {
   "interpreter": {
    "hash": "b441ca6a0b14e0f45f61f889efc33481c7f0becb5a645c14772208216aa08893"
   }
  }
 },
 "nbformat": 4,
 "nbformat_minor": 2
}
